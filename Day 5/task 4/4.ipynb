{
 "cells": [
  {
   "cell_type": "code",
   "execution_count": null,
   "metadata": {},
   "outputs": [
    {
     "name": "stdout",
     "output_type": "stream",
     "text": [
      "\n",
      "Feature Names: ['140' '145' '147' 'bouncer' 'bumrah' 'defended' 'for' 'four' 'full' 'km'\n",
      " 'kohli' 'rohit' 'shami' 'single' 'six' 'smashed' 'smith' 'solidly'\n",
      " 'starc' 'taken' 'to' 'toss' 'yorker']\n",
      "TF-IDF Matrix:\n",
      " [[0.         0.31141802 0.         0.         0.31141802 0.\n",
      "  0.39499427 0.39499427 0.         0.2061244  0.39499427 0.\n",
      "  0.         0.         0.         0.39499427 0.         0.\n",
      "  0.         0.         0.2061244  0.         0.31141802]\n",
      " [0.39089239 0.         0.         0.39089239 0.         0.\n",
      "  0.         0.         0.         0.20398387 0.         0.\n",
      "  0.39089239 0.39089239 0.         0.         0.39089239 0.\n",
      "  0.         0.39089239 0.20398387 0.         0.        ]\n",
      " [0.         0.         0.4027079  0.         0.         0.\n",
      "  0.         0.         0.4027079  0.21014969 0.         0.31749953\n",
      "  0.         0.         0.4027079  0.         0.         0.\n",
      "  0.4027079  0.         0.21014969 0.4027079  0.        ]\n",
      " [0.         0.3515001  0.         0.         0.3515001  0.4458333\n",
      "  0.         0.         0.         0.23265431 0.         0.3515001\n",
      "  0.         0.         0.         0.         0.         0.4458333\n",
      "  0.         0.         0.23265431 0.         0.3515001 ]]\n"
     ]
    }
   ],
   "source": [
    "import numpy as np\n",
    "import re\n",
    "import math\n",
    "from collections import Counter\n",
    "from sklearn.feature_extraction.text import TfidfVectorizer\n",
    "\n",
    "commentary = [\n",
    "    \"Bumrah to Kohli, Yorker, 145 km/h, smashed for a Four!\",\n",
    "    \"Shami to Smith, Bouncer, 140 km/h, single taken.\",\n",
    "    \"Starc to Rohit, Full Toss, 147 km/h, Six!\",\n",
    "    \"Bumrah to Rohit, Yorker, 145 km/h, defended solidly.\",\n",
    "]\n",
    "\n",
    "def preprocess(text):\n",
    "    text = text.lower() \n",
    "    text = re.sub(r'[^a-z0-9\\s]', '', text)  \n",
    "    return text.split()\n",
    "\n",
    "tokenized_docs = [preprocess(doc) for doc in commentary]\n",
    "\n",
    "def compute_tf(doc):\n",
    "    tf_dict = Counter(doc)\n",
    "    total_words = len(doc)\n",
    "    return {word: freq / total_words for word, freq in tf_dict.items()}\n",
    "\n",
    "tf_documents = [compute_tf(doc) for doc in tokenized_docs]\n",
    "\n",
    "def compute_idf(doc_list):\n",
    "    N = len(doc_list) \n",
    "    idf_dict = {}\n",
    "    all_words = set(word for doc in doc_list for word in doc)  \n",
    "\n",
    "    for word in all_words:\n",
    "        doc_count = sum(1 for doc in doc_list if word in doc)\n",
    "        idf_dict[word] = math.log((N + 1) / (doc_count + 1)) + 1  \n",
    "\n",
    "    return idf_dict\n",
    "\n",
    "idf_values = compute_idf(tokenized_docs)\n",
    "\n",
    "def compute_tfidf(tf_docs, idf_values):\n",
    "    tfidf_documents = []\n",
    "    for tf_doc in tf_docs:\n",
    "        tfidf_doc = {word: tf_value * idf_values[word] for word, tf_value in tf_doc.items()}\n",
    "        tfidf_documents.append(tfidf_doc)\n",
    "    return tfidf_documents\n",
    "\n",
    "tfidf_documents = compute_tfidf(tf_documents, idf_values)\n",
    "\n",
    "vectorizer = TfidfVectorizer()\n",
    "X_tfidf = vectorizer.fit_transform(commentary)\n",
    "\n",
    "print(\"\\nFeature Names:\", vectorizer.get_feature_names_out())\n",
    "print(\"TF-IDF Matrix:\\n\", X_tfidf.toarray())"
   ]
  }
 ],
 "metadata": {
  "kernelspec": {
   "display_name": "Python 3",
   "language": "python",
   "name": "python3"
  },
  "language_info": {
   "codemirror_mode": {
    "name": "ipython",
    "version": 3
   },
   "file_extension": ".py",
   "mimetype": "text/x-python",
   "name": "python",
   "nbconvert_exporter": "python",
   "pygments_lexer": "ipython3",
   "version": "3.11.9"
  }
 },
 "nbformat": 4,
 "nbformat_minor": 2
}
