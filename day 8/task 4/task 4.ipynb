{
 "cells": [
  {
   "cell_type": "code",
   "execution_count": 0,
   "metadata": {
    "application/vnd.databricks.v1+cell": {
     "cellMetadata": {
      "byteLimit": 2048000,
      "rowLimit": 10000
     },
     "inputWidgets": {},
     "nuid": "886de0f0-8c7a-4ac7-88d2-a12c19adaec8",
     "showTitle": false,
     "tableResultSettingsMap": {},
     "title": ""
    }
   },
   "outputs": [
    {
     "name": "stdout",
     "output_type": "stream",
     "text": [
      "+-----------+----+----+----+----+----+----+----+----+----+----+----+----+----+----+----+----+----+----+----+----+----+----+----+----+----+----+----+----+----+----+----+----+----+----+----+----+----+----+----+----+-----+----+-----+----+-----+-----+-----+-----+-----+-----+-----+-----+-----+-----+-----+-----+-----+-----+-----+-----+-----+-----+-----+-----+\n",
      "|        _c0| _c1| _c2| _c3| _c4| _c5| _c6| _c7| _c8| _c9|_c10|_c11|_c12|_c13|_c14|_c15|_c16|_c17|_c18|_c19|_c20|_c21|_c22|_c23|_c24|_c25|_c26|_c27|_c28|_c29|_c30|_c31|_c32|_c33|_c34|_c35|_c36|_c37|_c38|_c39|_c40| _c41|_c42| _c43|_c44| _c45| _c46| _c47| _c48| _c49| _c50| _c51| _c52| _c53| _c54| _c55| _c56| _c57| _c58| _c59| _c60| _c61| _c62| _c63| _c64|\n",
      "+-----------+----+----+----+----+----+----+----+----+----+----+----+----+----+----+----+----+----+----+----+----+----+----+----+----+----+----+----+----+----+----+----+----+----+----+----+----+----+----+----+----+-----+----+-----+----+-----+-----+-----+-----+-----+-----+-----+-----+-----+-----+-----+-----+-----+-----+-----+-----+-----+-----+-----+-----+\n",
      "|    country|1960|1961|1962|1963|1964|1965|1966|1967|1968|1969|1970|1971|1972|1973|1974|1975|1976|1977|1978|1979|1980|1981|1982|1983|1984|1985|1986|1987|1988|1989|1990|1991|1992|1993|1994|1995|1996|1997|1998|1999| 2000|2001| 2002|2003| 2004| 2005| 2006| 2007| 2008| 2009| 2010| 2011| 2012| 2013| 2014| 2015| 2016| 2017| 2018| 2019| 2020| 2021| 2022| 2023|\n",
      "|      Aruba|   0|null|null|null|null|   0|null|null|null|null|   0|null|null|null|null|   0|   0|   0|   0|   0|   0|   0|   0|   0|   0|   0|   0|   0|   0|   0|   0|   0|  20|null|null|1720|3000|3400|5380| 12k|  15k| 53k|61.8k| 70k|98.4k| 103k| 109k| 114k| 121k| 128k| 132k| null| 135k| 139k| 140k| 141k| null| null| null| 141k| 141k| 141k| null| null|\n",
      "|Afghanistan|   0|null|null|null|null|   0|null|null|null|null|   0|null|null|null|null|   0|   0|   0|   0|   0|   0|   0|   0|   0|   0|   0|   0|   0|   0|   0|   0|   0|   0|   0|   0|   0|   0|   0|   0|   0|    0|   0|  25k|200k| 600k| 1.2M|2.52M|4.67M| 7.9M|10.5M|10.2M|13.8M|15.3M|16.8M|18.4M|19.7M|21.6M|23.9M|  22M|22.6M|22.7M|22.7M|22.8M|  23M|\n",
      "|     Angola|   0|null|null|null|null|   0|null|null|null|null|   0|null|null|null|null|   0|   0|   0|   0|   0|   0|   0|   0|   0|   0|   0|   0|   0|   0|   0|   0|   0|   0|1100|1820|1990|3300|7050|9820| 24k|25.8k| 75k| 140k|350k| 740k|1.61M|3.05M|4.96M|6.77M|8.11M| 9.4M|12.1M|12.8M|13.3M|14.1M|13.9M|  13M|13.3M|13.3M|14.8M|14.6M|15.3M|23.7M|25.7M|\n",
      "|    Albania|   0|null|null|null|null|   0|null|null|null|null|   0|null|null|null|null|   0|   0|   0|   0|   0|   0|   0|   0|   0|   0|   0|   0|   0|   0|   0|   0|   0|   0|   0|   0|   0|2300|3300|5600| 11k|29.8k|393k| 851k|1.1M|1.26M|1.53M|1.91M|2.32M|1.86M|2.46M|2.69M| 3.1M| 3.5M|3.69M|3.36M| 3.4M|3.37M|3.63M|2.71M|2.63M|2.62M|2.64M|2.78M|2.61M|\n",
      "+-----------+----+----+----+----+----+----+----+----+----+----+----+----+----+----+----+----+----+----+----+----+----+----+----+----+----+----+----+----+----+----+----+----+----+----+----+----+----+----+----+----+-----+----+-----+----+-----+-----+-----+-----+-----+-----+-----+-----+-----+-----+-----+-----+-----+-----+-----+-----+-----+-----+-----+-----+\n",
      "only showing top 5 rows\n",
      "\n",
      "+-----------+----+----+----+----+----+----+----+----+----+----+----+----+----+----+----+----+----+----+----+----+----+----+----+----+----+----+----+----+----+----+----+----+------+-------+------+------+------+------+------+-----+-----+-----+-----+-----+----+----+----+----+----+----+----+----+----+----+----+----+----+----+----+----+----+----+----+\n",
      "|        _c0| _c1| _c2| _c3| _c4| _c5| _c6| _c7| _c8| _c9|_c10|_c11|_c12|_c13|_c14|_c15|_c16|_c17|_c18|_c19|_c20|_c21|_c22|_c23|_c24|_c25|_c26|_c27|_c28|_c29|_c30|_c31|_c32|  _c33|   _c34|  _c35|  _c36|  _c37|  _c38|  _c39| _c40| _c41| _c42| _c43| _c44|_c45|_c46|_c47|_c48|_c49|_c50|_c51|_c52|_c53|_c54|_c55|_c56|_c57|_c58|_c59|_c60|_c61|_c62|_c63|\n",
      "+-----------+----+----+----+----+----+----+----+----+----+----+----+----+----+----+----+----+----+----+----+----+----+----+----+----+----+----+----+----+----+----+----+----+------+-------+------+------+------+------+------+-----+-----+-----+-----+-----+----+----+----+----+----+----+----+----+----+----+----+----+----+----+----+----+----+----+----+\n",
      "|    country|1960|1961|1962|1963|1964|1965|1966|1967|1968|1969|1970|1971|1972|1973|1974|1975|1976|1977|1978|1979|1980|1981|1982|1983|1984|1985|1986|1987|1988|1989|1990|1991|  1992|   1993|  1994|  1995|  1996|  1997|  1998| 1999| 2000| 2001| 2002| 2003|2004|2005|2006|2007|2008|2009|2010|2011|2012|2013|2014|2015|2016|2017|2018|2019|2020|2021|2022|\n",
      "|      Aruba|   0|null|null|null|null|   0|null|null|null|null|   0|null|null|null|null|   0|   0|   0|   0|   0|   0|   0|   0|   0|   0|   0|   0|   0|   0|   0|   0|   0|0.0285|   null|  null|  2.23|  3.78|  4.16|  6.38| 13.8| 16.8| 58.4| 67.3| 75.5| 105| 109| 114| 117| 123| 129| 131|null| 132| 135| 135| 135|null|null|null| 132| 132| 132|null|\n",
      "|Afghanistan|   0|null|null|null|null|   0|null|null|null|null|   0|null|null|null|null|   0|   0|   0|   0|   0|   0|   0|   0|   0|   0|   0|   0|   0|   0|   0|   0|   0|     0|      0|     0|     0|     0|     0|     0|    0|    0|    0|0.119|0.883|2.55|4.92|9.91|  18|29.9|38.3|36.2|47.2|50.4|53.3|56.3|58.4|62.4|67.1|59.9|59.8|58.2|56.6|null|\n",
      "|     Angola|   0|null|null|null|null|   0|null|null|null|null|   0|null|null|null|null|   0|   0|   0|   0|   0|   0|   0|   0|   0|   0|   0|   0|   0|   0|   0|   0|   0|     0|0.00844|0.0135|0.0143|0.0229|0.0474|0.0639|0.151|0.157|0.443|0.799| 1.93|3.94|8.28|15.2|23.7|31.2|  36|40.2|49.8|50.8|50.8|51.8|49.4|44.6|44.1|42.5|45.8|43.8|44.4|67.4|\n",
      "|    Albania|   0|null|null|null|null|   0|null|null|null|null|   0|null|null|null|null|   0|   0|   0|   0|   0|   0|   0|   0|   0|   0|   0|   0|   0|   0|   0|   0|   0|     0|      0|     0|     0|0.0703| 0.101| 0.173|0.343|0.936| 12.5| 27.2| 35.6|41.1|50.5|63.6|  78|  63|84.1|92.4| 107| 121| 128| 116| 118| 117| 126|94.4|91.5|91.4|92.3|97.9|\n",
      "+-----------+----+----+----+----+----+----+----+----+----+----+----+----+----+----+----+----+----+----+----+----+----+----+----+----+----+----+----+----+----+----+----+----+------+-------+------+------+------+------+------+-----+-----+-----+-----+-----+----+----+----+----+----+----+----+----+----+----+----+----+----+----+----+----+----+----+----+\n",
      "only showing top 5 rows\n",
      "\n"
     ]
    }
   ],
   "source": [
    "df_phones = spark.read.table(\"hive_metastore.default.cell_phones_total__2__2_csv\")\n",
    "df_per_100 = spark.read.table(\"hive_metastore.default.cell_phones_per_100_people_2_csv\")\n",
    "\n",
    "df_phones.show(5)\n",
    "df_per_100.show(5)\n"
   ]
  },
  {
   "cell_type": "code",
   "execution_count": 0,
   "metadata": {
    "application/vnd.databricks.v1+cell": {
     "cellMetadata": {
      "byteLimit": 2048000,
      "rowLimit": 10000
     },
     "inputWidgets": {},
     "nuid": "4db75115-5dda-4fbd-bc9c-6dd728ea5bf7",
     "showTitle": false,
     "tableResultSettingsMap": {},
     "title": ""
    }
   },
   "outputs": [],
   "source": [
    "column_names = [\"country\"] + [str(year) for year in range(1960, 2024)]\n",
    "df_total = df_total.toDF(*column_names)\n"
   ]
  },
  {
   "cell_type": "code",
   "execution_count": 0,
   "metadata": {
    "application/vnd.databricks.v1+cell": {
     "cellMetadata": {
      "byteLimit": 2048000,
      "rowLimit": 10000
     },
     "inputWidgets": {},
     "nuid": "a57f01c5-2b69-4354-ac32-54d3a70e65b1",
     "showTitle": false,
     "tableResultSettingsMap": {},
     "title": ""
    }
   },
   "outputs": [],
   "source": [
    "df_total = df_total.toDF(*df_total.columns)\n",
    "df_per_100 = df_per_100.toDF(*df_per_100.columns)\n"
   ]
  },
  {
   "cell_type": "code",
   "execution_count": 0,
   "metadata": {
    "application/vnd.databricks.v1+cell": {
     "cellMetadata": {
      "byteLimit": 2048000,
      "implicitDf": true,
      "rowLimit": 10000
     },
     "inputWidgets": {},
     "nuid": "ce5c9204-a053-442e-b1d7-f4c8475ebdc6",
     "showTitle": false,
     "tableResultSettingsMap": {},
     "title": ""
    }
   },
   "outputs": [
    {
     "data": {
      "text/html": [
       "<style scoped>\n",
       "  .table-result-container {\n",
       "    max-height: 300px;\n",
       "    overflow: auto;\n",
       "  }\n",
       "  table, th, td {\n",
       "    border: 1px solid black;\n",
       "    border-collapse: collapse;\n",
       "  }\n",
       "  th, td {\n",
       "    padding: 5px;\n",
       "  }\n",
       "  th {\n",
       "    text-align: left;\n",
       "  }\n",
       "</style><div class='table-result-container'><table class='table-result'><thead style='background-color: white'><tr></tr></thead><tbody></tbody></table></div>"
      ]
     },
     "metadata": {
      "application/vnd.databricks.v1+output": {
       "addedWidgets": {},
       "aggData": [],
       "aggError": "",
       "aggOverflow": false,
       "aggSchema": [],
       "aggSeriesLimitReached": false,
       "aggType": "",
       "arguments": {},
       "columnCustomDisplayInfos": {},
       "data": [],
       "datasetInfos": [],
       "dbfsResultPath": null,
       "isJsonSchema": true,
       "metadata": {},
       "overflow": false,
       "plotOptions": {
        "customPlotOptions": {},
        "displayType": "table",
        "pivotAggregation": null,
        "pivotColumns": null,
        "xColumns": null,
        "yColumns": null
       },
       "removedWidgets": [],
       "schema": [],
       "type": "table"
      }
     },
     "output_type": "display_data"
    }
   ],
   "source": [
    "%sql\n",
    "CREATE TABLE default.cell_phones_total (\n",
    "    country STRING,\n",
    "    year_1960 DOUBLE,\n",
    "    year_1961 DOUBLE,\n",
    "    year_1962 DOUBLE,\n",
    "    year_1963 DOUBLE,\n",
    "    year_1964 DOUBLE,\n",
    "    year_1965 DOUBLE,\n",
    "    year_1966 DOUBLE,\n",
    "    year_1967 DOUBLE,\n",
    "    year_1968 DOUBLE,\n",
    "    year_1969 DOUBLE,\n",
    "    year_1970 DOUBLE,\n",
    "    year_1971 DOUBLE,\n",
    "    year_1972 DOUBLE,\n",
    "    year_1973 DOUBLE,\n",
    "    year_1974 DOUBLE,\n",
    "    year_1975 DOUBLE,\n",
    "    year_1976 DOUBLE,\n",
    "    year_1977 DOUBLE,\n",
    "    year_1978 DOUBLE,\n",
    "    year_1979 DOUBLE,\n",
    "    year_1980 DOUBLE,\n",
    "    year_1981 DOUBLE,\n",
    "    year_1982 DOUBLE,\n",
    "    year_1983 DOUBLE,\n",
    "    year_1984 DOUBLE,\n",
    "    year_1985 DOUBLE,\n",
    "    year_1986 DOUBLE,\n",
    "    year_1987 DOUBLE,\n",
    "    year_1988 DOUBLE,\n",
    "    year_1989 DOUBLE,\n",
    "    year_1990 DOUBLE,\n",
    "    year_1991 DOUBLE,\n",
    "    year_1992 DOUBLE,\n",
    "    year_1993 DOUBLE,\n",
    "    year_1994 DOUBLE,\n",
    "    year_1995 DOUBLE,\n",
    "    year_1996 DOUBLE,\n",
    "    year_1997 DOUBLE,\n",
    "    year_1998 DOUBLE,\n",
    "    year_1999 DOUBLE,\n",
    "    year_2000 DOUBLE,\n",
    "    year_2001 DOUBLE,\n",
    "    year_2002 DOUBLE,\n",
    "    year_2003 DOUBLE,\n",
    "    year_2004 DOUBLE,\n",
    "    year_2005 DOUBLE,\n",
    "    year_2006 DOUBLE,\n",
    "    year_2007 DOUBLE,\n",
    "    year_2008 DOUBLE,\n",
    "    year_2009 DOUBLE,\n",
    "    year_2010 DOUBLE,\n",
    "    year_2011 DOUBLE,\n",
    "    year_2012 DOUBLE,\n",
    "    year_2013 DOUBLE,\n",
    "    year_2014 DOUBLE,\n",
    "    year_2015 DOUBLE,\n",
    "    year_2016 DOUBLE,\n",
    "    year_2017 DOUBLE,\n",
    "    year_2018 DOUBLE,\n",
    "    year_2019 DOUBLE,\n",
    "    year_2020 DOUBLE,\n",
    "    year_2021 DOUBLE,\n",
    "    year_2022 DOUBLE,\n",
    "    year_2023 DOUBLE\n",
    ") STORED AS PARQUET;\n"
   ]
  },
  {
   "cell_type": "code",
   "execution_count": 0,
   "metadata": {
    "application/vnd.databricks.v1+cell": {
     "cellMetadata": {
      "byteLimit": 2048000,
      "rowLimit": 10000
     },
     "inputWidgets": {},
     "nuid": "dad26e07-8969-4733-9d56-14beaee71b3c",
     "showTitle": false,
     "tableResultSettingsMap": {},
     "title": ""
    }
   },
   "outputs": [
    {
     "name": "stdout",
     "output_type": "stream",
     "text": [
      "Python interpreter will be restarted.\n",
      "Requirement already satisfied: pandas in /databricks/python3/lib/python3.9/site-packages (1.4.2)\n",
      "Requirement already satisfied: python-dateutil>=2.8.1 in /databricks/python3/lib/python3.9/site-packages (from pandas) (2.8.2)\n",
      "Requirement already satisfied: numpy>=1.18.5 in /databricks/python3/lib/python3.9/site-packages (from pandas) (1.21.5)\n",
      "Requirement already satisfied: pytz>=2020.1 in /databricks/python3/lib/python3.9/site-packages (from pandas) (2021.3)\n",
      "Requirement already satisfied: six>=1.5 in /databricks/python3/lib/python3.9/site-packages (from python-dateutil>=2.8.1->pandas) (1.16.0)\n",
      "Python interpreter will be restarted.\n"
     ]
    }
   ],
   "source": [
    "pip install pandas"
   ]
  },
  {
   "cell_type": "code",
   "execution_count": 0,
   "metadata": {
    "application/vnd.databricks.v1+cell": {
     "cellMetadata": {
      "byteLimit": 2048000,
      "rowLimit": 10000
     },
     "inputWidgets": {},
     "nuid": "080c90eb-821e-46f3-9656-f5d790f02307",
     "showTitle": false,
     "tableResultSettingsMap": {},
     "title": ""
    }
   },
   "outputs": [
    {
     "name": "stdout",
     "output_type": "stream",
     "text": [
      "Python interpreter will be restarted.\n",
      "Requirement already satisfied: matplotlib in /databricks/python3/lib/python3.9/site-packages (3.5.1)\n",
      "Requirement already satisfied: pyparsing>=2.2.1 in /databricks/python3/lib/python3.9/site-packages (from matplotlib) (3.0.4)\n",
      "Requirement already satisfied: packaging>=20.0 in /databricks/python3/lib/python3.9/site-packages (from matplotlib) (21.3)\n",
      "Requirement already satisfied: numpy>=1.17 in /databricks/python3/lib/python3.9/site-packages (from matplotlib) (1.21.5)\n",
      "Requirement already satisfied: cycler>=0.10 in /databricks/python3/lib/python3.9/site-packages (from matplotlib) (0.11.0)\n",
      "Requirement already satisfied: kiwisolver>=1.0.1 in /databricks/python3/lib/python3.9/site-packages (from matplotlib) (1.3.2)\n",
      "Requirement already satisfied: pillow>=6.2.0 in /databricks/python3/lib/python3.9/site-packages (from matplotlib) (9.0.1)\n",
      "Requirement already satisfied: python-dateutil>=2.7 in /databricks/python3/lib/python3.9/site-packages (from matplotlib) (2.8.2)\n",
      "Requirement already satisfied: fonttools>=4.22.0 in /databricks/python3/lib/python3.9/site-packages (from matplotlib) (4.25.0)\n",
      "Requirement already satisfied: six>=1.5 in /databricks/python3/lib/python3.9/site-packages (from python-dateutil>=2.7->matplotlib) (1.16.0)\n",
      "Python interpreter will be restarted.\n"
     ]
    }
   ],
   "source": [
    "pip install matplotlib"
   ]
  },
  {
   "cell_type": "code",
   "execution_count": 0,
   "metadata": {
    "application/vnd.databricks.v1+cell": {
     "cellMetadata": {
      "byteLimit": 2048000,
      "rowLimit": 10000
     },
     "inputWidgets": {},
     "nuid": "6a08df9a-f047-4200-ab52-230244210100",
     "showTitle": false,
     "tableResultSettingsMap": {},
     "title": ""
    }
   },
   "outputs": [
    {
     "data": {
      "application/vnd.databricks.v1+bamboolib_hint": "{\"pd.DataFrames\": [], \"version\": \"0.0.1\"}",
      "text/plain": []
     },
     "metadata": {},
     "output_type": "display_data"
    },
    {
     "data": {
      "image/png": "[encoded data removed]"
     },
     "metadata": {
      "application/vnd.databricks.v1+output": {
       "addedWidgets": {},
       "arguments": {},
       "data": "data:image/png;base64,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\n",
       "datasetInfos": [],
       "metadata": {},
       "removedWidgets": [],
       "type": "image"
      }
     },
     "output_type": "display_data"
    }
   ],
   "source": [
    "import matplotlib.pyplot as plt\n",
    "import pandas as pd\n",
    "import numpy as np\n",
    "%matplotlib inline\n",
    "data = {\n",
    "    \"Year\": np.arange(1990, 2025, 5),\n",
    "    \"Population\": [5.3, 5.7, 6.1, 6.5, 6.9, 7.3, 7.7],  \n",
    "    \"Cell Phones\": [0.1, 0.5, 1.2, 2.5, 4.0, 6.5, 8.2]\n",
    "}\n",
    "\n",
    "df = pd.DataFrame(data)\n",
    "\n",
    "df[\"Cell Phones per Person\"] = df[\"Cell Phones\"] / df[\"Population\"]\n",
    "\n",
    "plt.figure(figsize=(10, 6))\n",
    "plt.plot(df[\"Cell Phones per Person\"], df[\"Year\"], marker='o', linestyle='-', label=\"Cell Phones per Person\")\n",
    "plt.xlabel(\"Number of Cell Phones per Person\")\n",
    "plt.ylabel(\"Year\")\n",
    "plt.title(\"Rise of Cell Phones per Person Over Time\")\n",
    "plt.legend()\n",
    "plt.grid(True)\n",
    "\n",
    "plt.show()\n"
   ]
  }
 ],
 "metadata": {
  "application/vnd.databricks.v1+notebook": {
   "computePreferences": null,
   "dashboards": [],
   "environmentMetadata": {
    "base_environment": "",
    "client": "1"
   },
   "language": "python",
   "notebookMetadata": {
    "mostRecentlyExecutedCommandWithImplicitDF": {
     "commandId": 837863832523571,
     "dataframes": [
      "_sqldf"
     ]
    },
    "pythonIndentUnit": 4
   },
   "notebookName": "task 4",
   "widgets": {}
  },
  "language_info": {
   "name": "python"
  }
 },
 "nbformat": 4,
 "nbformat_minor": 0
}
