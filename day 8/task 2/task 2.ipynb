{
 "cells": [
  {
   "cell_type": "code",
   "execution_count": 0,
   "metadata": {
    "application/vnd.databricks.v1+cell": {
     "cellMetadata": {
      "byteLimit": 2048000,
      "rowLimit": 10000
     },
     "inputWidgets": {},
     "nuid": "495c1419-82b3-4ba7-9ba8-4201f67e9cbd",
     "showTitle": false,
     "tableResultSettingsMap": {},
     "title": ""
    }
   },
   "outputs": [
    {
     "output_type": "stream",
     "name": "stdout",
     "output_type": "stream",
     "text": [
      "+-------------------+----+----+----+----+----+----+----+----+----+----+----+----+----+----+----+----+----+----+----+----+----+----+----+----+----+----+-----+-----+-----+-----+-----+-----+-----+-----+-----+-----+-----+-----+-----+-----+-----+-----+-----+-----+-----+-----+-----+-----+-----+-----+-----+-----+-----+-----+-----+-----+-----+-----+-----+-----+-----+-----+-----+-----+\n|                _c0| _c1| _c2| _c3| _c4| _c5| _c6| _c7| _c8| _c9|_c10|_c11|_c12|_c13|_c14|_c15|_c16|_c17|_c18|_c19|_c20|_c21|_c22|_c23|_c24|_c25|_c26| _c27| _c28| _c29| _c30| _c31| _c32| _c33| _c34| _c35| _c36| _c37| _c38| _c39| _c40| _c41| _c42| _c43| _c44| _c45| _c46| _c47| _c48| _c49| _c50| _c51| _c52| _c53| _c54| _c55| _c56| _c57| _c58| _c59| _c60| _c61| _c62| _c63| _c64|\n+-------------------+----+----+----+----+----+----+----+----+----+----+----+----+----+----+----+----+----+----+----+----+----+----+----+----+----+----+-----+-----+-----+-----+-----+-----+-----+-----+-----+-----+-----+-----+-----+-----+-----+-----+-----+-----+-----+-----+-----+-----+-----+-----+-----+-----+-----+-----+-----+-----+-----+-----+-----+-----+-----+-----+-----+-----+\n|            country|1960|1961|1962|1963|1964|1965|1966|1967|1968|1969|1970|1971|1972|1973|1974|1975|1976|1977|1978|1979|1980|1981|1982|1983|1984|1985| 1986| 1987| 1988| 1989| 1990| 1991| 1992| 1993| 1994| 1995| 1996| 1997| 1998| 1999| 2000| 2001| 2002| 2003| 2004| 2005| 2006| 2007| 2008| 2009| 2010| 2011| 2012| 2013| 2014| 2015| 2016| 2017| 2018| 2019| 2020| 2021| 2022| 2023|\n|              Aruba|   0|null|null|null|null|   0|null|null|null|null|   0|null|null|null|null|   0|   0|   0|   0|   0|   0|   0|   0|   0|   0|   0|    0|    0|    0|    0|    0|    0|   20| null| null| 1720| 3000| 3400| 5380|  12k|  15k|  53k|61.8k|  70k|98.4k| 103k| 109k| 114k| 121k| 128k| 132k| null| 135k| 139k| 140k| 141k| null| null| null| 141k| 141k| 141k| null| null|\n|        Afghanistan|   0|null|null|null|null|   0|null|null|null|null|   0|null|null|null|null|   0|   0|   0|   0|   0|   0|   0|   0|   0|   0|   0|    0|    0|    0|    0|    0|    0|    0|    0|    0|    0|    0|    0|    0|    0|    0|    0|  25k| 200k| 600k| 1.2M|2.52M|4.67M| 7.9M|10.5M|10.2M|13.8M|15.3M|16.8M|18.4M|19.7M|21.6M|23.9M|  22M|22.6M|22.7M|22.7M|22.8M|  23M|\n|             Angola|   0|null|null|null|null|   0|null|null|null|null|   0|null|null|null|null|   0|   0|   0|   0|   0|   0|   0|   0|   0|   0|   0|    0|    0|    0|    0|    0|    0|    0| 1100| 1820| 1990| 3300| 7050| 9820|  24k|25.8k|  75k| 140k| 350k| 740k|1.61M|3.05M|4.96M|6.77M|8.11M| 9.4M|12.1M|12.8M|13.3M|14.1M|13.9M|  13M|13.3M|13.3M|14.8M|14.6M|15.3M|23.7M|25.7M|\n|            Albania|   0|null|null|null|null|   0|null|null|null|null|   0|null|null|null|null|   0|   0|   0|   0|   0|   0|   0|   0|   0|   0|   0|    0|    0|    0|    0|    0|    0|    0|    0|    0|    0| 2300| 3300| 5600|  11k|29.8k| 393k| 851k| 1.1M|1.26M|1.53M|1.91M|2.32M|1.86M|2.46M|2.69M| 3.1M| 3.5M|3.69M|3.36M| 3.4M|3.37M|3.63M|2.71M|2.63M|2.62M|2.64M|2.78M|2.61M|\n|            Andorra|   0|null|null|null|null|   0|null|null|null|null|   0|null|null|null|null|   0|   0|   0|   0|   0|   0|   0|   0|   0|   0|   0|    0|    0|    0|    0|    0|    0|  770|  780|  784| 2830| 5490| 8620|14.1k|20.6k|23.5k|29.4k|32.8k|51.9k|58.4k|64.6k|  69k|63.5k|64.2k|64.5k|65.5k|  65k|63.9k|63.9k|66.2k|71.3k|76.1k|80.3k|82.6k|87.9k|80.4k|93.8k| 114k| 126k|\n|                UAE|null|null|null|null|null|null|null|null|null|null|null|null|null|null|null|null|null|null|null|null|null|null|2330|3560|4940|7920|11.2k|13.7k|13.8k|24.9k|33.6k|  43k|48.9k|70.6k|91.5k| 129k| 194k| 309k| 493k| 832k|1.43M|1.91M|2.43M|2.97M|3.68M|4.53M|5.52M|7.73M|9.36M|10.7M|10.9M|11.7M|13.8M|16.1M|16.8M|17.9M|19.9M|19.8M|20.1M|19.6M|18.4M|18.2M|  20M|21.2M|\n|          Argentina|   0|null|null|null|null|   0|null|null|null|null|   0|null|null|null|null|   0|   0|   0|   0|   0|   0|   0|   0|   0|   0|   0|    0|    0|    0| 2300|  12k|  25k|46.6k| 112k| 241k| 405k| 667k|2.01M|2.67M|3.85M|6.49M|6.74M|6.57M|7.84M|13.5M|22.2M|31.5M|40.4M|46.5M|52.5M|57.1M|60.7M|64.3M|67.4M|61.2M|61.8M|63.7M|61.9M|58.6M|56.4M|54.8M|59.1M|59.7M|62.7M|\n|            Armenia|   0|null|null|null|null|   0|null|null|null|null|   0|null|null|null|null|   0|   0|   0|   0|   0|   0|   0|   0|   0|   0|   0|    0|    0|    0|    0|    0|    0|    0|    0|    0|    0|  300| 5000| 7830| 8160|17.5k|25.5k|71.3k| 114k| 203k| 318k|1.26M|1.88M|1.44M|2.19M|3.87M|3.21M|3.32M|3.35M|3.46M|3.46M|3.43M|3.49M|3.58M|3.62M|3.49M| 3.6M|3.76M|3.96M|\n|     American Samoa|   0|null|null|null|null|   0|null|null|null|null|   0|null|null|null|null|   0|   0|   0|   0|   0|   0|   0|   0|   0|   0|   0|    0|    0|    0|    0|    0|    0|  700|  900| 1200| 1250| 1300| 1400| 1500| 1800| 1990| 2160| 2040| 2100| 2250| null| null| null| null| null| null| null| null| null| null| null| null| null| null| null| null| null| null| null|\n|Antigua and Barbuda|   0|null|null|null|null|   0|null|null|null|null|   0|null|null|null|null|   0|   0|   0|   0|   0|   0|   0|   0|   0|   0|   0|    0|    0|    0| null|    0| null| null| null| null| null| 1300| 1400| 1500| 8500|  22k|  25k|38.2k|46.1k|  54k|  86k| 110k| 112k| 137k| 135k| 168k| 176k| 127k| 114k| 120k| 176k| 180k| 184k| null| 184k| 184k| 184k| null| null|\n|          Australia|   0|null|null|null|null|   0|null|null|null|null|   0|null|null|null|null|   0|   0|   0|   0|   0|   0|   0|   0|   0|   0|   0|    0| 4420|31.6k|94.5k| 185k| 291k| 497k| 690k|1.22M|2.24M|3.99M|4.58M|4.92M|6.32M|8.56M|11.1M|12.7M|14.3M|16.5M|18.4M|19.8M|21.3M|22.1M|22.2M|22.5M|23.8M|24.3M|24.9M|25.1M|25.8M|26.6M|26.7M|27.6M|  28M|  27M|27.3M|28.7M|29.1M|\n|            Austria|   0|null|null|null|null|   0|null|null|null|null|   0|null|null|null|null|   0|   0|   0|   0|   0|   0|   0|   0|   0|   0|9760|19.1k|26.2k|36.9k|50.7k|73.7k| 115k| 172k| 221k| 278k| 384k| 599k|1.16M|2.29M|4.25M|6.12M|6.54M|6.74M|7.27M|7.99M|8.67M|9.28M|9.91M|10.8M|11.4M|12.2M|  13M|13.6M|13.3M|  13M|13.5M|11.1M|10.9M|  11M|10.7M|10.7M|10.9M|  11M|11.1M|\n|         Azerbaijan|   0|null|null|null|null|   0|null|null|null|null|   0|null|null|null|null|   0|   0|   0|   0|   0|   0|   0|   0|   0|   0|   0|    0|    0|    0|    0|    0|    0|    0|    0|  500| 6000|  17k|  40k|  65k| 370k| 420k| 730k| 794k|1.06M|1.46M|2.24M|3.32M|4.52M|6.55M|7.76M| 9.1M|10.1M|10.1M|10.1M|10.6M|10.7M|10.2M|10.1M|10.3M|10.8M|10.3M|10.8M|11.1M|  11M|\n|            Burundi|   0|null|null|null|null|   0|null|null|null|null|   0|null|null|null|null|   0|   0|   0|   0|   0|   0|   0|   0|   0|   0|   0|    0|    0|    0|    0|    0|    0|    0|  353|  378|  564|  561|  619|  620|  800|16.3k|33.4k|  52k|  64k| 101k| 153k| 200k| 270k| 481k| 921k|1.68M|1.91M|2.25M|2.54M|3.19M|   5M|5.36M|5.92M|6.32M|6.53M|6.63M|7.74M|7.49M|8.65M|\n|            Belgium|   0|null|null|null|null|   0|null|null|null|null|   0|null|null|null|null|   0|   0|   0|   0|   0|   0|   0|   0|   0|   0|   0| 3800| 7220|19.2k|30.8k|42.9k|51.4k|61.5k|67.8k| 128k| 235k| 478k| 974k|1.76M|3.19M|5.63M| 7.7M| 8.1M|8.61M|9.13M| 9.6M|9.85M|10.7M|11.3M|11.8M|12.2M|12.5M|12.3M|12.3M|12.7M|12.8M|12.6M|11.4M|11.4M|11.5M|11.5M|11.7M|11.8M|12.1M|\n|              Benin|   0|null|null|null|null|   0|null|null|null|null|   0|null|null|null|null|   0|   0|   0|   0|   0|   0|   0|   0|   0|   0|   0|    0|    0|    0|    0|    0|    0|    0|    0|    0| 1050| 2710| 4300| 6290| 7270|55.5k| 125k| 219k| 236k| 459k| 596k|1.06M|2.05M|3.63M|5.03M|7.07M|7.77M|8.41M|9.63M|8.66M|9.32M|8.89M|8.77M|9.46M|10.3M|11.1M|12.7M|14.6M|16.4M|\n|       Burkina Faso|   0|null|null|null|null|   0|null|null|null|null|   0|null|null|null|null|   0|   0|   0|   0|   0|   0|   0|   0|   0|   0|   0|    0|    0|    0|    0|    0|    0|    0|    0|    0|    0|  525| 1500| 2730| 5040|25.2k|76.2k| 111k| 238k| 396k| 634k|1.02M|1.86M|3.02M|3.82M|5.71M|7.68M|9.98M|11.2M|12.5M|14.4M|15.4M|17.9M|19.3M|20.4M|22.1M|24.7M| null| null|\n|         Bangladesh|   0|null|null|null|null|   0|null|null|null|null|   0|null|null|null|null|   0|   0|   0|   0|   0|   0|   0|   0|   0|   0|   0|    0|    0|    0|    0|    0|    0|  250|  500| 1100| 2500| 4000|  26k|  75k| 149k| 279k| 520k|1.08M|1.37M|2.78M|   9M|19.1M|34.4M|44.6M|51.4M|67.9M|84.4M|97.2M| 117M| 127M| 131M| 136M| 151M| 162M| 166M| 176M| 184M| 186M| 191M|\n|           Bulgaria|   0|null|null|null|null|   0|null|null|null|null|   0|null|null|null|null|   0|   0|   0|   0|   0|   0|   0|   0|   0|   0|   0|    0|    0|    0|    0|    0|    0|    0| 1000| 6500|20.9k|26.6k|  70k| 127k| 350k| 738k|1.55M| 2.6M| 3.5M|4.73M|6.24M|8.25M| 9.9M|10.4M|10.5M|10.2M|10.5M|10.8M|10.5M|9.49M|9.19M|8.97M|8.53M|8.39M|8.13M|7.95M| 7.9M|7.96M|8.01M|\n+-------------------+----+----+----+----+----+----+----+----+----+----+----+----+----+----+----+----+----+----+----+----+----+----+----+----+----+----+-----+-----+-----+-----+-----+-----+-----+-----+-----+-----+-----+-----+-----+-----+-----+-----+-----+-----+-----+-----+-----+-----+-----+-----+-----+-----+-----+-----+-----+-----+-----+-----+-----+-----+-----+-----+-----+-----+\nonly showing top 20 rows\n\n"
     ]
    }
   ],
   "source": [
    "df_spark = spark.read.table(\"default.cell_phones_total__2__csv\")\n",
    "df_spark.show()\n"
   ]
  },
  {
   "cell_type": "code",
   "execution_count": 0,
   "metadata": {
    "application/vnd.databricks.v1+cell": {
     "cellMetadata": {
      "byteLimit": 2048000,
      "rowLimit": 10000
     },
     "inputWidgets": {},
     "nuid": "89fa3de6-53b1-473b-9f72-23e19638b206",
     "showTitle": false,
     "tableResultSettingsMap": {},
     "title": ""
    }
   },
   "outputs": [
    {
     "output_type": "display_data",
     "data": {
      "text/html": [
       "<div>\n",
       "<style scoped>\n",
       "    .dataframe tbody tr th:only-of-type {\n",
       "        vertical-align: middle;\n",
       "    }\n",
       "\n",
       "    .dataframe tbody tr th {\n",
       "        vertical-align: top;\n",
       "    }\n",
       "\n",
       "    .dataframe thead th {\n",
       "        text-align: right;\n",
       "    }\n",
       "</style>\n",
       "<table border=\"1\" class=\"dataframe\">\n",
       "  <thead>\n",
       "    <tr style=\"text-align: right;\">\n",
       "      <th></th>\n",
       "      <th>_c0</th>\n",
       "      <th>_c1</th>\n",
       "      <th>_c2</th>\n",
       "      <th>_c3</th>\n",
       "      <th>_c4</th>\n",
       "      <th>_c5</th>\n",
       "      <th>_c6</th>\n",
       "      <th>_c7</th>\n",
       "      <th>_c8</th>\n",
       "      <th>_c9</th>\n",
       "      <th>...</th>\n",
       "      <th>_c55</th>\n",
       "      <th>_c56</th>\n",
       "      <th>_c57</th>\n",
       "      <th>_c58</th>\n",
       "      <th>_c59</th>\n",
       "      <th>_c60</th>\n",
       "      <th>_c61</th>\n",
       "      <th>_c62</th>\n",
       "      <th>_c63</th>\n",
       "      <th>_c64</th>\n",
       "    </tr>\n",
       "  </thead>\n",
       "  <tbody>\n",
       "    <tr>\n",
       "      <th>0</th>\n",
       "      <td>country</td>\n",
       "      <td>1960</td>\n",
       "      <td>1961</td>\n",
       "      <td>1962</td>\n",
       "      <td>1963</td>\n",
       "      <td>1964</td>\n",
       "      <td>1965</td>\n",
       "      <td>1966</td>\n",
       "      <td>1967</td>\n",
       "      <td>1968</td>\n",
       "      <td>...</td>\n",
       "      <td>2014</td>\n",
       "      <td>2015</td>\n",
       "      <td>2016</td>\n",
       "      <td>2017</td>\n",
       "      <td>2018</td>\n",
       "      <td>2019</td>\n",
       "      <td>2020</td>\n",
       "      <td>2021</td>\n",
       "      <td>2022</td>\n",
       "      <td>2023</td>\n",
       "    </tr>\n",
       "    <tr>\n",
       "      <th>1</th>\n",
       "      <td>Aruba</td>\n",
       "      <td>0</td>\n",
       "      <td>None</td>\n",
       "      <td>None</td>\n",
       "      <td>None</td>\n",
       "      <td>None</td>\n",
       "      <td>0</td>\n",
       "      <td>None</td>\n",
       "      <td>None</td>\n",
       "      <td>None</td>\n",
       "      <td>...</td>\n",
       "      <td>140k</td>\n",
       "      <td>141k</td>\n",
       "      <td>None</td>\n",
       "      <td>None</td>\n",
       "      <td>None</td>\n",
       "      <td>141k</td>\n",
       "      <td>141k</td>\n",
       "      <td>141k</td>\n",
       "      <td>None</td>\n",
       "      <td>None</td>\n",
       "    </tr>\n",
       "    <tr>\n",
       "      <th>2</th>\n",
       "      <td>Afghanistan</td>\n",
       "      <td>0</td>\n",
       "      <td>None</td>\n",
       "      <td>None</td>\n",
       "      <td>None</td>\n",
       "      <td>None</td>\n",
       "      <td>0</td>\n",
       "      <td>None</td>\n",
       "      <td>None</td>\n",
       "      <td>None</td>\n",
       "      <td>...</td>\n",
       "      <td>18.4M</td>\n",
       "      <td>19.7M</td>\n",
       "      <td>21.6M</td>\n",
       "      <td>23.9M</td>\n",
       "      <td>22M</td>\n",
       "      <td>22.6M</td>\n",
       "      <td>22.7M</td>\n",
       "      <td>22.7M</td>\n",
       "      <td>22.8M</td>\n",
       "      <td>23M</td>\n",
       "    </tr>\n",
       "    <tr>\n",
       "      <th>3</th>\n",
       "      <td>Angola</td>\n",
       "      <td>0</td>\n",
       "      <td>None</td>\n",
       "      <td>None</td>\n",
       "      <td>None</td>\n",
       "      <td>None</td>\n",
       "      <td>0</td>\n",
       "      <td>None</td>\n",
       "      <td>None</td>\n",
       "      <td>None</td>\n",
       "      <td>...</td>\n",
       "      <td>14.1M</td>\n",
       "      <td>13.9M</td>\n",
       "      <td>13M</td>\n",
       "      <td>13.3M</td>\n",
       "      <td>13.3M</td>\n",
       "      <td>14.8M</td>\n",
       "      <td>14.6M</td>\n",
       "      <td>15.3M</td>\n",
       "      <td>23.7M</td>\n",
       "      <td>25.7M</td>\n",
       "    </tr>\n",
       "    <tr>\n",
       "      <th>4</th>\n",
       "      <td>Albania</td>\n",
       "      <td>0</td>\n",
       "      <td>None</td>\n",
       "      <td>None</td>\n",
       "      <td>None</td>\n",
       "      <td>None</td>\n",
       "      <td>0</td>\n",
       "      <td>None</td>\n",
       "      <td>None</td>\n",
       "      <td>None</td>\n",
       "      <td>...</td>\n",
       "      <td>3.36M</td>\n",
       "      <td>3.4M</td>\n",
       "      <td>3.37M</td>\n",
       "      <td>3.63M</td>\n",
       "      <td>2.71M</td>\n",
       "      <td>2.63M</td>\n",
       "      <td>2.62M</td>\n",
       "      <td>2.64M</td>\n",
       "      <td>2.78M</td>\n",
       "      <td>2.61M</td>\n",
       "    </tr>\n",
       "  </tbody>\n",
       "</table>\n",
       "<p>5 rows × 65 columns</p>\n",
       "</div>"
      ]
     },
     "metadata": {
      "application/vnd.databricks.v1+output": {
       "addedWidgets": {},
       "arguments": {},
       "data": "<div>\n<style scoped>\n    .dataframe tbody tr th:only-of-type {\n        vertical-align: middle;\n    }\n\n    .dataframe tbody tr th {\n        vertical-align: top;\n    }\n\n    .dataframe thead th {\n        text-align: right;\n    }\n</style>\n<table border=\"1\" class=\"dataframe\">\n  <thead>\n    <tr style=\"text-align: right;\">\n      <th></th>\n      <th>_c0</th>\n      <th>_c1</th>\n      <th>_c2</th>\n      <th>_c3</th>\n      <th>_c4</th>\n      <th>_c5</th>\n      <th>_c6</th>\n      <th>_c7</th>\n      <th>_c8</th>\n      <th>_c9</th>\n      <th>...</th>\n      <th>_c55</th>\n      <th>_c56</th>\n      <th>_c57</th>\n      <th>_c58</th>\n      <th>_c59</th>\n      <th>_c60</th>\n      <th>_c61</th>\n      <th>_c62</th>\n      <th>_c63</th>\n      <th>_c64</th>\n    </tr>\n  </thead>\n  <tbody>\n    <tr>\n      <th>0</th>\n      <td>country</td>\n      <td>1960</td>\n      <td>1961</td>\n      <td>1962</td>\n      <td>1963</td>\n      <td>1964</td>\n      <td>1965</td>\n      <td>1966</td>\n      <td>1967</td>\n      <td>1968</td>\n      <td>...</td>\n      <td>2014</td>\n      <td>2015</td>\n      <td>2016</td>\n      <td>2017</td>\n      <td>2018</td>\n      <td>2019</td>\n      <td>2020</td>\n      <td>2021</td>\n      <td>2022</td>\n      <td>2023</td>\n    </tr>\n    <tr>\n      <th>1</th>\n      <td>Aruba</td>\n      <td>0</td>\n      <td>None</td>\n      <td>None</td>\n      <td>None</td>\n      <td>None</td>\n      <td>0</td>\n      <td>None</td>\n      <td>None</td>\n      <td>None</td>\n      <td>...</td>\n      <td>140k</td>\n      <td>141k</td>\n      <td>None</td>\n      <td>None</td>\n      <td>None</td>\n      <td>141k</td>\n      <td>141k</td>\n      <td>141k</td>\n      <td>None</td>\n      <td>None</td>\n    </tr>\n    <tr>\n      <th>2</th>\n      <td>Afghanistan</td>\n      <td>0</td>\n      <td>None</td>\n      <td>None</td>\n      <td>None</td>\n      <td>None</td>\n      <td>0</td>\n      <td>None</td>\n      <td>None</td>\n      <td>None</td>\n      <td>...</td>\n      <td>18.4M</td>\n      <td>19.7M</td>\n      <td>21.6M</td>\n      <td>23.9M</td>\n      <td>22M</td>\n      <td>22.6M</td>\n      <td>22.7M</td>\n      <td>22.7M</td>\n      <td>22.8M</td>\n      <td>23M</td>\n    </tr>\n    <tr>\n      <th>3</th>\n      <td>Angola</td>\n      <td>0</td>\n      <td>None</td>\n      <td>None</td>\n      <td>None</td>\n      <td>None</td>\n      <td>0</td>\n      <td>None</td>\n      <td>None</td>\n      <td>None</td>\n      <td>...</td>\n      <td>14.1M</td>\n      <td>13.9M</td>\n      <td>13M</td>\n      <td>13.3M</td>\n      <td>13.3M</td>\n      <td>14.8M</td>\n      <td>14.6M</td>\n      <td>15.3M</td>\n      <td>23.7M</td>\n      <td>25.7M</td>\n    </tr>\n    <tr>\n      <th>4</th>\n      <td>Albania</td>\n      <td>0</td>\n      <td>None</td>\n      <td>None</td>\n      <td>None</td>\n      <td>None</td>\n      <td>0</td>\n      <td>None</td>\n      <td>None</td>\n      <td>None</td>\n      <td>...</td>\n      <td>3.36M</td>\n      <td>3.4M</td>\n      <td>3.37M</td>\n      <td>3.63M</td>\n      <td>2.71M</td>\n      <td>2.63M</td>\n      <td>2.62M</td>\n      <td>2.64M</td>\n      <td>2.78M</td>\n      <td>2.61M</td>\n    </tr>\n  </tbody>\n</table>\n<p>5 rows × 65 columns</p>\n</div>",
       "datasetInfos": [],
       "metadata": {},
       "removedWidgets": [],
       "textData": null,
       "type": "htmlSandbox"
      }
     },
     "output_type": "display_data"
    }
   ],
   "source": [
    "df_pandas = df_spark.toPandas()\n",
    "df_pandas.head()\n"
   ]
  },
  {
   "cell_type": "code",
   "execution_count": 0,
   "metadata": {
    "application/vnd.databricks.v1+cell": {
     "cellMetadata": {
      "byteLimit": 2048000,
      "rowLimit": 10000
     },
     "inputWidgets": {},
     "nuid": "ef47d47d-8c37-4b8d-afc6-f6514547dea7",
     "showTitle": false,
     "tableResultSettingsMap": {},
     "title": ""
    }
   },
   "outputs": [
    {
     "output_type": "stream",
     "name": "stdout",
     "output_type": "stream",
     "text": [
      "+--------+--------------------+-----------+\n|database|           tableName|isTemporary|\n+--------+--------------------+-----------+\n| default|cell_phones_total...|      false|\n+--------+--------------------+-----------+\n\n"
     ]
    }
   ],
   "source": [
    "df_tables = spark.sql(\"SHOW TABLES IN default\")\n",
    "df_tables.show()\n"
   ]
  },
  {
   "cell_type": "code",
   "execution_count": 0,
   "metadata": {
    "application/vnd.databricks.v1+cell": {
     "cellMetadata": {
      "byteLimit": 2048000,
      "rowLimit": 10000
     },
     "inputWidgets": {},
     "nuid": "1ba6ff1a-18f5-49c5-8256-544f80691792",
     "showTitle": false,
     "tableResultSettingsMap": {},
     "title": ""
    }
   },
   "outputs": [
    {
     "output_type": "stream",
     "name": "stdout",
     "output_type": "stream",
     "text": [
      "+-------------------+----+----+----+----+----+----+----+----+----+----+----+----+----+----+----+----+----+----+----+----+----+----+----+----+----+----+-----+-----+-----+-----+-----+-----+-----+-----+-----+-----+-----+-----+-----+-----+-----+-----+-----+-----+-----+-----+-----+-----+-----+-----+-----+-----+-----+-----+-----+-----+-----+-----+-----+-----+-----+-----+-----+-----+\n|                _c0| _c1| _c2| _c3| _c4| _c5| _c6| _c7| _c8| _c9|_c10|_c11|_c12|_c13|_c14|_c15|_c16|_c17|_c18|_c19|_c20|_c21|_c22|_c23|_c24|_c25|_c26| _c27| _c28| _c29| _c30| _c31| _c32| _c33| _c34| _c35| _c36| _c37| _c38| _c39| _c40| _c41| _c42| _c43| _c44| _c45| _c46| _c47| _c48| _c49| _c50| _c51| _c52| _c53| _c54| _c55| _c56| _c57| _c58| _c59| _c60| _c61| _c62| _c63| _c64|\n+-------------------+----+----+----+----+----+----+----+----+----+----+----+----+----+----+----+----+----+----+----+----+----+----+----+----+----+----+-----+-----+-----+-----+-----+-----+-----+-----+-----+-----+-----+-----+-----+-----+-----+-----+-----+-----+-----+-----+-----+-----+-----+-----+-----+-----+-----+-----+-----+-----+-----+-----+-----+-----+-----+-----+-----+-----+\n|            country|1960|1961|1962|1963|1964|1965|1966|1967|1968|1969|1970|1971|1972|1973|1974|1975|1976|1977|1978|1979|1980|1981|1982|1983|1984|1985| 1986| 1987| 1988| 1989| 1990| 1991| 1992| 1993| 1994| 1995| 1996| 1997| 1998| 1999| 2000| 2001| 2002| 2003| 2004| 2005| 2006| 2007| 2008| 2009| 2010| 2011| 2012| 2013| 2014| 2015| 2016| 2017| 2018| 2019| 2020| 2021| 2022| 2023|\n|              Aruba|   0|null|null|null|null|   0|null|null|null|null|   0|null|null|null|null|   0|   0|   0|   0|   0|   0|   0|   0|   0|   0|   0|    0|    0|    0|    0|    0|    0|   20| null| null| 1720| 3000| 3400| 5380|  12k|  15k|  53k|61.8k|  70k|98.4k| 103k| 109k| 114k| 121k| 128k| 132k| null| 135k| 139k| 140k| 141k| null| null| null| 141k| 141k| 141k| null| null|\n|        Afghanistan|   0|null|null|null|null|   0|null|null|null|null|   0|null|null|null|null|   0|   0|   0|   0|   0|   0|   0|   0|   0|   0|   0|    0|    0|    0|    0|    0|    0|    0|    0|    0|    0|    0|    0|    0|    0|    0|    0|  25k| 200k| 600k| 1.2M|2.52M|4.67M| 7.9M|10.5M|10.2M|13.8M|15.3M|16.8M|18.4M|19.7M|21.6M|23.9M|  22M|22.6M|22.7M|22.7M|22.8M|  23M|\n|             Angola|   0|null|null|null|null|   0|null|null|null|null|   0|null|null|null|null|   0|   0|   0|   0|   0|   0|   0|   0|   0|   0|   0|    0|    0|    0|    0|    0|    0|    0| 1100| 1820| 1990| 3300| 7050| 9820|  24k|25.8k|  75k| 140k| 350k| 740k|1.61M|3.05M|4.96M|6.77M|8.11M| 9.4M|12.1M|12.8M|13.3M|14.1M|13.9M|  13M|13.3M|13.3M|14.8M|14.6M|15.3M|23.7M|25.7M|\n|            Albania|   0|null|null|null|null|   0|null|null|null|null|   0|null|null|null|null|   0|   0|   0|   0|   0|   0|   0|   0|   0|   0|   0|    0|    0|    0|    0|    0|    0|    0|    0|    0|    0| 2300| 3300| 5600|  11k|29.8k| 393k| 851k| 1.1M|1.26M|1.53M|1.91M|2.32M|1.86M|2.46M|2.69M| 3.1M| 3.5M|3.69M|3.36M| 3.4M|3.37M|3.63M|2.71M|2.63M|2.62M|2.64M|2.78M|2.61M|\n|            Andorra|   0|null|null|null|null|   0|null|null|null|null|   0|null|null|null|null|   0|   0|   0|   0|   0|   0|   0|   0|   0|   0|   0|    0|    0|    0|    0|    0|    0|  770|  780|  784| 2830| 5490| 8620|14.1k|20.6k|23.5k|29.4k|32.8k|51.9k|58.4k|64.6k|  69k|63.5k|64.2k|64.5k|65.5k|  65k|63.9k|63.9k|66.2k|71.3k|76.1k|80.3k|82.6k|87.9k|80.4k|93.8k| 114k| 126k|\n|                UAE|null|null|null|null|null|null|null|null|null|null|null|null|null|null|null|null|null|null|null|null|null|null|2330|3560|4940|7920|11.2k|13.7k|13.8k|24.9k|33.6k|  43k|48.9k|70.6k|91.5k| 129k| 194k| 309k| 493k| 832k|1.43M|1.91M|2.43M|2.97M|3.68M|4.53M|5.52M|7.73M|9.36M|10.7M|10.9M|11.7M|13.8M|16.1M|16.8M|17.9M|19.9M|19.8M|20.1M|19.6M|18.4M|18.2M|  20M|21.2M|\n|          Argentina|   0|null|null|null|null|   0|null|null|null|null|   0|null|null|null|null|   0|   0|   0|   0|   0|   0|   0|   0|   0|   0|   0|    0|    0|    0| 2300|  12k|  25k|46.6k| 112k| 241k| 405k| 667k|2.01M|2.67M|3.85M|6.49M|6.74M|6.57M|7.84M|13.5M|22.2M|31.5M|40.4M|46.5M|52.5M|57.1M|60.7M|64.3M|67.4M|61.2M|61.8M|63.7M|61.9M|58.6M|56.4M|54.8M|59.1M|59.7M|62.7M|\n|            Armenia|   0|null|null|null|null|   0|null|null|null|null|   0|null|null|null|null|   0|   0|   0|   0|   0|   0|   0|   0|   0|   0|   0|    0|    0|    0|    0|    0|    0|    0|    0|    0|    0|  300| 5000| 7830| 8160|17.5k|25.5k|71.3k| 114k| 203k| 318k|1.26M|1.88M|1.44M|2.19M|3.87M|3.21M|3.32M|3.35M|3.46M|3.46M|3.43M|3.49M|3.58M|3.62M|3.49M| 3.6M|3.76M|3.96M|\n|     American Samoa|   0|null|null|null|null|   0|null|null|null|null|   0|null|null|null|null|   0|   0|   0|   0|   0|   0|   0|   0|   0|   0|   0|    0|    0|    0|    0|    0|    0|  700|  900| 1200| 1250| 1300| 1400| 1500| 1800| 1990| 2160| 2040| 2100| 2250| null| null| null| null| null| null| null| null| null| null| null| null| null| null| null| null| null| null| null|\n|Antigua and Barbuda|   0|null|null|null|null|   0|null|null|null|null|   0|null|null|null|null|   0|   0|   0|   0|   0|   0|   0|   0|   0|   0|   0|    0|    0|    0| null|    0| null| null| null| null| null| 1300| 1400| 1500| 8500|  22k|  25k|38.2k|46.1k|  54k|  86k| 110k| 112k| 137k| 135k| 168k| 176k| 127k| 114k| 120k| 176k| 180k| 184k| null| 184k| 184k| 184k| null| null|\n|          Australia|   0|null|null|null|null|   0|null|null|null|null|   0|null|null|null|null|   0|   0|   0|   0|   0|   0|   0|   0|   0|   0|   0|    0| 4420|31.6k|94.5k| 185k| 291k| 497k| 690k|1.22M|2.24M|3.99M|4.58M|4.92M|6.32M|8.56M|11.1M|12.7M|14.3M|16.5M|18.4M|19.8M|21.3M|22.1M|22.2M|22.5M|23.8M|24.3M|24.9M|25.1M|25.8M|26.6M|26.7M|27.6M|  28M|  27M|27.3M|28.7M|29.1M|\n|            Austria|   0|null|null|null|null|   0|null|null|null|null|   0|null|null|null|null|   0|   0|   0|   0|   0|   0|   0|   0|   0|   0|9760|19.1k|26.2k|36.9k|50.7k|73.7k| 115k| 172k| 221k| 278k| 384k| 599k|1.16M|2.29M|4.25M|6.12M|6.54M|6.74M|7.27M|7.99M|8.67M|9.28M|9.91M|10.8M|11.4M|12.2M|  13M|13.6M|13.3M|  13M|13.5M|11.1M|10.9M|  11M|10.7M|10.7M|10.9M|  11M|11.1M|\n|         Azerbaijan|   0|null|null|null|null|   0|null|null|null|null|   0|null|null|null|null|   0|   0|   0|   0|   0|   0|   0|   0|   0|   0|   0|    0|    0|    0|    0|    0|    0|    0|    0|  500| 6000|  17k|  40k|  65k| 370k| 420k| 730k| 794k|1.06M|1.46M|2.24M|3.32M|4.52M|6.55M|7.76M| 9.1M|10.1M|10.1M|10.1M|10.6M|10.7M|10.2M|10.1M|10.3M|10.8M|10.3M|10.8M|11.1M|  11M|\n|            Burundi|   0|null|null|null|null|   0|null|null|null|null|   0|null|null|null|null|   0|   0|   0|   0|   0|   0|   0|   0|   0|   0|   0|    0|    0|    0|    0|    0|    0|    0|  353|  378|  564|  561|  619|  620|  800|16.3k|33.4k|  52k|  64k| 101k| 153k| 200k| 270k| 481k| 921k|1.68M|1.91M|2.25M|2.54M|3.19M|   5M|5.36M|5.92M|6.32M|6.53M|6.63M|7.74M|7.49M|8.65M|\n|            Belgium|   0|null|null|null|null|   0|null|null|null|null|   0|null|null|null|null|   0|   0|   0|   0|   0|   0|   0|   0|   0|   0|   0| 3800| 7220|19.2k|30.8k|42.9k|51.4k|61.5k|67.8k| 128k| 235k| 478k| 974k|1.76M|3.19M|5.63M| 7.7M| 8.1M|8.61M|9.13M| 9.6M|9.85M|10.7M|11.3M|11.8M|12.2M|12.5M|12.3M|12.3M|12.7M|12.8M|12.6M|11.4M|11.4M|11.5M|11.5M|11.7M|11.8M|12.1M|\n|              Benin|   0|null|null|null|null|   0|null|null|null|null|   0|null|null|null|null|   0|   0|   0|   0|   0|   0|   0|   0|   0|   0|   0|    0|    0|    0|    0|    0|    0|    0|    0|    0| 1050| 2710| 4300| 6290| 7270|55.5k| 125k| 219k| 236k| 459k| 596k|1.06M|2.05M|3.63M|5.03M|7.07M|7.77M|8.41M|9.63M|8.66M|9.32M|8.89M|8.77M|9.46M|10.3M|11.1M|12.7M|14.6M|16.4M|\n|       Burkina Faso|   0|null|null|null|null|   0|null|null|null|null|   0|null|null|null|null|   0|   0|   0|   0|   0|   0|   0|   0|   0|   0|   0|    0|    0|    0|    0|    0|    0|    0|    0|    0|    0|  525| 1500| 2730| 5040|25.2k|76.2k| 111k| 238k| 396k| 634k|1.02M|1.86M|3.02M|3.82M|5.71M|7.68M|9.98M|11.2M|12.5M|14.4M|15.4M|17.9M|19.3M|20.4M|22.1M|24.7M| null| null|\n|         Bangladesh|   0|null|null|null|null|   0|null|null|null|null|   0|null|null|null|null|   0|   0|   0|   0|   0|   0|   0|   0|   0|   0|   0|    0|    0|    0|    0|    0|    0|  250|  500| 1100| 2500| 4000|  26k|  75k| 149k| 279k| 520k|1.08M|1.37M|2.78M|   9M|19.1M|34.4M|44.6M|51.4M|67.9M|84.4M|97.2M| 117M| 127M| 131M| 136M| 151M| 162M| 166M| 176M| 184M| 186M| 191M|\n|           Bulgaria|   0|null|null|null|null|   0|null|null|null|null|   0|null|null|null|null|   0|   0|   0|   0|   0|   0|   0|   0|   0|   0|   0|    0|    0|    0|    0|    0|    0|    0| 1000| 6500|20.9k|26.6k|  70k| 127k| 350k| 738k|1.55M| 2.6M| 3.5M|4.73M|6.24M|8.25M| 9.9M|10.4M|10.5M|10.2M|10.5M|10.8M|10.5M|9.49M|9.19M|8.97M|8.53M|8.39M|8.13M|7.95M| 7.9M|7.96M|8.01M|\n+-------------------+----+----+----+----+----+----+----+----+----+----+----+----+----+----+----+----+----+----+----+----+----+----+----+----+----+----+-----+-----+-----+-----+-----+-----+-----+-----+-----+-----+-----+-----+-----+-----+-----+-----+-----+-----+-----+-----+-----+-----+-----+-----+-----+-----+-----+-----+-----+-----+-----+-----+-----+-----+-----+-----+-----+-----+\nonly showing top 20 rows\n\n"
     ]
    }
   ],
   "source": [
    "df_spark = spark.read.table(\"hive_metastore.default.cell_phones_total__2__csv\")\n",
    "df_spark.show()"
   ]
  },
  {
   "cell_type": "code",
   "execution_count": 0,
   "metadata": {
    "application/vnd.databricks.v1+cell": {
     "cellMetadata": {
      "byteLimit": 2048000,
      "rowLimit": 10000
     },
     "inputWidgets": {},
     "nuid": "5b8cf8bf-8159-41d7-80a0-8d0c6777db72",
     "showTitle": false,
     "tableResultSettingsMap": {},
     "title": ""
    }
   },
   "outputs": [
    {
     "output_type": "stream",
     "name": "stdout",
     "output_type": "stream",
     "text": [
      "+-------------------+----+----+----+----+----+----+----+----+----+----+----+----+----+----+----+----+----+----+----+----+----+----+----+----+----+----+-----+-----+-----+-----+-----+-----+-----+-----+-----+-----+-----+-----+-----+-----+-----+-----+-----+-----+-----+-----+-----+-----+-----+-----+-----+-----+-----+-----+-----+-----+-----+-----+-----+-----+-----+-----+-----+-----+\n|                _c0| _c1| _c2| _c3| _c4| _c5| _c6| _c7| _c8| _c9|_c10|_c11|_c12|_c13|_c14|_c15|_c16|_c17|_c18|_c19|_c20|_c21|_c22|_c23|_c24|_c25|_c26| _c27| _c28| _c29| _c30| _c31| _c32| _c33| _c34| _c35| _c36| _c37| _c38| _c39| _c40| _c41| _c42| _c43| _c44| _c45| _c46| _c47| _c48| _c49| _c50| _c51| _c52| _c53| _c54| _c55| _c56| _c57| _c58| _c59| _c60| _c61| _c62| _c63| _c64|\n+-------------------+----+----+----+----+----+----+----+----+----+----+----+----+----+----+----+----+----+----+----+----+----+----+----+----+----+----+-----+-----+-----+-----+-----+-----+-----+-----+-----+-----+-----+-----+-----+-----+-----+-----+-----+-----+-----+-----+-----+-----+-----+-----+-----+-----+-----+-----+-----+-----+-----+-----+-----+-----+-----+-----+-----+-----+\n|            country|1960|1961|1962|1963|1964|1965|1966|1967|1968|1969|1970|1971|1972|1973|1974|1975|1976|1977|1978|1979|1980|1981|1982|1983|1984|1985| 1986| 1987| 1988| 1989| 1990| 1991| 1992| 1993| 1994| 1995| 1996| 1997| 1998| 1999| 2000| 2001| 2002| 2003| 2004| 2005| 2006| 2007| 2008| 2009| 2010| 2011| 2012| 2013| 2014| 2015| 2016| 2017| 2018| 2019| 2020| 2021| 2022| 2023|\n|              Aruba|   0|null|null|null|null|   0|null|null|null|null|   0|null|null|null|null|   0|   0|   0|   0|   0|   0|   0|   0|   0|   0|   0|    0|    0|    0|    0|    0|    0|   20| null| null| 1720| 3000| 3400| 5380|  12k|  15k|  53k|61.8k|  70k|98.4k| 103k| 109k| 114k| 121k| 128k| 132k| null| 135k| 139k| 140k| 141k| null| null| null| 141k| 141k| 141k| null| null|\n|        Afghanistan|   0|null|null|null|null|   0|null|null|null|null|   0|null|null|null|null|   0|   0|   0|   0|   0|   0|   0|   0|   0|   0|   0|    0|    0|    0|    0|    0|    0|    0|    0|    0|    0|    0|    0|    0|    0|    0|    0|  25k| 200k| 600k| 1.2M|2.52M|4.67M| 7.9M|10.5M|10.2M|13.8M|15.3M|16.8M|18.4M|19.7M|21.6M|23.9M|  22M|22.6M|22.7M|22.7M|22.8M|  23M|\n|             Angola|   0|null|null|null|null|   0|null|null|null|null|   0|null|null|null|null|   0|   0|   0|   0|   0|   0|   0|   0|   0|   0|   0|    0|    0|    0|    0|    0|    0|    0| 1100| 1820| 1990| 3300| 7050| 9820|  24k|25.8k|  75k| 140k| 350k| 740k|1.61M|3.05M|4.96M|6.77M|8.11M| 9.4M|12.1M|12.8M|13.3M|14.1M|13.9M|  13M|13.3M|13.3M|14.8M|14.6M|15.3M|23.7M|25.7M|\n|            Albania|   0|null|null|null|null|   0|null|null|null|null|   0|null|null|null|null|   0|   0|   0|   0|   0|   0|   0|   0|   0|   0|   0|    0|    0|    0|    0|    0|    0|    0|    0|    0|    0| 2300| 3300| 5600|  11k|29.8k| 393k| 851k| 1.1M|1.26M|1.53M|1.91M|2.32M|1.86M|2.46M|2.69M| 3.1M| 3.5M|3.69M|3.36M| 3.4M|3.37M|3.63M|2.71M|2.63M|2.62M|2.64M|2.78M|2.61M|\n|            Andorra|   0|null|null|null|null|   0|null|null|null|null|   0|null|null|null|null|   0|   0|   0|   0|   0|   0|   0|   0|   0|   0|   0|    0|    0|    0|    0|    0|    0|  770|  780|  784| 2830| 5490| 8620|14.1k|20.6k|23.5k|29.4k|32.8k|51.9k|58.4k|64.6k|  69k|63.5k|64.2k|64.5k|65.5k|  65k|63.9k|63.9k|66.2k|71.3k|76.1k|80.3k|82.6k|87.9k|80.4k|93.8k| 114k| 126k|\n|                UAE|null|null|null|null|null|null|null|null|null|null|null|null|null|null|null|null|null|null|null|null|null|null|2330|3560|4940|7920|11.2k|13.7k|13.8k|24.9k|33.6k|  43k|48.9k|70.6k|91.5k| 129k| 194k| 309k| 493k| 832k|1.43M|1.91M|2.43M|2.97M|3.68M|4.53M|5.52M|7.73M|9.36M|10.7M|10.9M|11.7M|13.8M|16.1M|16.8M|17.9M|19.9M|19.8M|20.1M|19.6M|18.4M|18.2M|  20M|21.2M|\n|          Argentina|   0|null|null|null|null|   0|null|null|null|null|   0|null|null|null|null|   0|   0|   0|   0|   0|   0|   0|   0|   0|   0|   0|    0|    0|    0| 2300|  12k|  25k|46.6k| 112k| 241k| 405k| 667k|2.01M|2.67M|3.85M|6.49M|6.74M|6.57M|7.84M|13.5M|22.2M|31.5M|40.4M|46.5M|52.5M|57.1M|60.7M|64.3M|67.4M|61.2M|61.8M|63.7M|61.9M|58.6M|56.4M|54.8M|59.1M|59.7M|62.7M|\n|            Armenia|   0|null|null|null|null|   0|null|null|null|null|   0|null|null|null|null|   0|   0|   0|   0|   0|   0|   0|   0|   0|   0|   0|    0|    0|    0|    0|    0|    0|    0|    0|    0|    0|  300| 5000| 7830| 8160|17.5k|25.5k|71.3k| 114k| 203k| 318k|1.26M|1.88M|1.44M|2.19M|3.87M|3.21M|3.32M|3.35M|3.46M|3.46M|3.43M|3.49M|3.58M|3.62M|3.49M| 3.6M|3.76M|3.96M|\n|     American Samoa|   0|null|null|null|null|   0|null|null|null|null|   0|null|null|null|null|   0|   0|   0|   0|   0|   0|   0|   0|   0|   0|   0|    0|    0|    0|    0|    0|    0|  700|  900| 1200| 1250| 1300| 1400| 1500| 1800| 1990| 2160| 2040| 2100| 2250| null| null| null| null| null| null| null| null| null| null| null| null| null| null| null| null| null| null| null|\n|Antigua and Barbuda|   0|null|null|null|null|   0|null|null|null|null|   0|null|null|null|null|   0|   0|   0|   0|   0|   0|   0|   0|   0|   0|   0|    0|    0|    0| null|    0| null| null| null| null| null| 1300| 1400| 1500| 8500|  22k|  25k|38.2k|46.1k|  54k|  86k| 110k| 112k| 137k| 135k| 168k| 176k| 127k| 114k| 120k| 176k| 180k| 184k| null| 184k| 184k| 184k| null| null|\n|          Australia|   0|null|null|null|null|   0|null|null|null|null|   0|null|null|null|null|   0|   0|   0|   0|   0|   0|   0|   0|   0|   0|   0|    0| 4420|31.6k|94.5k| 185k| 291k| 497k| 690k|1.22M|2.24M|3.99M|4.58M|4.92M|6.32M|8.56M|11.1M|12.7M|14.3M|16.5M|18.4M|19.8M|21.3M|22.1M|22.2M|22.5M|23.8M|24.3M|24.9M|25.1M|25.8M|26.6M|26.7M|27.6M|  28M|  27M|27.3M|28.7M|29.1M|\n|            Austria|   0|null|null|null|null|   0|null|null|null|null|   0|null|null|null|null|   0|   0|   0|   0|   0|   0|   0|   0|   0|   0|9760|19.1k|26.2k|36.9k|50.7k|73.7k| 115k| 172k| 221k| 278k| 384k| 599k|1.16M|2.29M|4.25M|6.12M|6.54M|6.74M|7.27M|7.99M|8.67M|9.28M|9.91M|10.8M|11.4M|12.2M|  13M|13.6M|13.3M|  13M|13.5M|11.1M|10.9M|  11M|10.7M|10.7M|10.9M|  11M|11.1M|\n|         Azerbaijan|   0|null|null|null|null|   0|null|null|null|null|   0|null|null|null|null|   0|   0|   0|   0|   0|   0|   0|   0|   0|   0|   0|    0|    0|    0|    0|    0|    0|    0|    0|  500| 6000|  17k|  40k|  65k| 370k| 420k| 730k| 794k|1.06M|1.46M|2.24M|3.32M|4.52M|6.55M|7.76M| 9.1M|10.1M|10.1M|10.1M|10.6M|10.7M|10.2M|10.1M|10.3M|10.8M|10.3M|10.8M|11.1M|  11M|\n|            Burundi|   0|null|null|null|null|   0|null|null|null|null|   0|null|null|null|null|   0|   0|   0|   0|   0|   0|   0|   0|   0|   0|   0|    0|    0|    0|    0|    0|    0|    0|  353|  378|  564|  561|  619|  620|  800|16.3k|33.4k|  52k|  64k| 101k| 153k| 200k| 270k| 481k| 921k|1.68M|1.91M|2.25M|2.54M|3.19M|   5M|5.36M|5.92M|6.32M|6.53M|6.63M|7.74M|7.49M|8.65M|\n|            Belgium|   0|null|null|null|null|   0|null|null|null|null|   0|null|null|null|null|   0|   0|   0|   0|   0|   0|   0|   0|   0|   0|   0| 3800| 7220|19.2k|30.8k|42.9k|51.4k|61.5k|67.8k| 128k| 235k| 478k| 974k|1.76M|3.19M|5.63M| 7.7M| 8.1M|8.61M|9.13M| 9.6M|9.85M|10.7M|11.3M|11.8M|12.2M|12.5M|12.3M|12.3M|12.7M|12.8M|12.6M|11.4M|11.4M|11.5M|11.5M|11.7M|11.8M|12.1M|\n|              Benin|   0|null|null|null|null|   0|null|null|null|null|   0|null|null|null|null|   0|   0|   0|   0|   0|   0|   0|   0|   0|   0|   0|    0|    0|    0|    0|    0|    0|    0|    0|    0| 1050| 2710| 4300| 6290| 7270|55.5k| 125k| 219k| 236k| 459k| 596k|1.06M|2.05M|3.63M|5.03M|7.07M|7.77M|8.41M|9.63M|8.66M|9.32M|8.89M|8.77M|9.46M|10.3M|11.1M|12.7M|14.6M|16.4M|\n|       Burkina Faso|   0|null|null|null|null|   0|null|null|null|null|   0|null|null|null|null|   0|   0|   0|   0|   0|   0|   0|   0|   0|   0|   0|    0|    0|    0|    0|    0|    0|    0|    0|    0|    0|  525| 1500| 2730| 5040|25.2k|76.2k| 111k| 238k| 396k| 634k|1.02M|1.86M|3.02M|3.82M|5.71M|7.68M|9.98M|11.2M|12.5M|14.4M|15.4M|17.9M|19.3M|20.4M|22.1M|24.7M| null| null|\n|         Bangladesh|   0|null|null|null|null|   0|null|null|null|null|   0|null|null|null|null|   0|   0|   0|   0|   0|   0|   0|   0|   0|   0|   0|    0|    0|    0|    0|    0|    0|  250|  500| 1100| 2500| 4000|  26k|  75k| 149k| 279k| 520k|1.08M|1.37M|2.78M|   9M|19.1M|34.4M|44.6M|51.4M|67.9M|84.4M|97.2M| 117M| 127M| 131M| 136M| 151M| 162M| 166M| 176M| 184M| 186M| 191M|\n|           Bulgaria|   0|null|null|null|null|   0|null|null|null|null|   0|null|null|null|null|   0|   0|   0|   0|   0|   0|   0|   0|   0|   0|   0|    0|    0|    0|    0|    0|    0|    0| 1000| 6500|20.9k|26.6k|  70k| 127k| 350k| 738k|1.55M| 2.6M| 3.5M|4.73M|6.24M|8.25M| 9.9M|10.4M|10.5M|10.2M|10.5M|10.8M|10.5M|9.49M|9.19M|8.97M|8.53M|8.39M|8.13M|7.95M| 7.9M|7.96M|8.01M|\n+-------------------+----+----+----+----+----+----+----+----+----+----+----+----+----+----+----+----+----+----+----+----+----+----+----+----+----+----+-----+-----+-----+-----+-----+-----+-----+-----+-----+-----+-----+-----+-----+-----+-----+-----+-----+-----+-----+-----+-----+-----+-----+-----+-----+-----+-----+-----+-----+-----+-----+-----+-----+-----+-----+-----+-----+-----+\nonly showing top 20 rows\n\n"
     ]
    }
   ],
   "source": [
    "df_spark = spark.read.table(\"hive_metastore.default.cell_phones_total__2__csv\")\n",
    "df_spark.show()"
   ]
  },
  {
   "cell_type": "code",
   "execution_count": 0,
   "metadata": {
    "application/vnd.databricks.v1+cell": {
     "cellMetadata": {
      "byteLimit": 2048000,
      "rowLimit": 10000
     },
     "inputWidgets": {},
     "nuid": "f0b3267b-d6e2-4f45-ace7-a76e192a4dbc",
     "showTitle": false,
     "tableResultSettingsMap": {},
     "title": ""
    }
   },
   "outputs": [
    {
     "output_type": "stream",
     "name": "stdout",
     "output_type": "stream",
     "text": [
      "+-------------------+----+----+----+----+----+----+----+----+----+----+----+----+----+----+----+----+----+----+----+----+----+----+----+-----+-----+-----+------+------+-----+-------+------+------+-------+-------+-------+-------+-------+------+------+------+-----+-----+-----+-----+----+----+----+----+----+----+----+----+----+----+----+----+----+----+----+----+----+----+----+\n|                _c0| _c1| _c2| _c3| _c4| _c5| _c6| _c7| _c8| _c9|_c10|_c11|_c12|_c13|_c14|_c15|_c16|_c17|_c18|_c19|_c20|_c21|_c22|_c23| _c24| _c25| _c26|  _c27|  _c28| _c29|   _c30|  _c31|  _c32|   _c33|   _c34|   _c35|   _c36|   _c37|  _c38|  _c39|  _c40| _c41| _c42| _c43| _c44|_c45|_c46|_c47|_c48|_c49|_c50|_c51|_c52|_c53|_c54|_c55|_c56|_c57|_c58|_c59|_c60|_c61|_c62|_c63|\n+-------------------+----+----+----+----+----+----+----+----+----+----+----+----+----+----+----+----+----+----+----+----+----+----+----+-----+-----+-----+------+------+-----+-------+------+------+-------+-------+-------+-------+-------+------+------+------+-----+-----+-----+-----+----+----+----+----+----+----+----+----+----+----+----+----+----+----+----+----+----+----+----+\n|            country|1960|1961|1962|1963|1964|1965|1966|1967|1968|1969|1970|1971|1972|1973|1974|1975|1976|1977|1978|1979|1980|1981|1982| 1983| 1984| 1985|  1986|  1987| 1988|   1989|  1990|  1991|   1992|   1993|   1994|   1995|   1996|  1997|  1998|  1999| 2000| 2001| 2002| 2003|2004|2005|2006|2007|2008|2009|2010|2011|2012|2013|2014|2015|2016|2017|2018|2019|2020|2021|2022|\n|              Aruba|   0|null|null|null|null|   0|null|null|null|null|   0|null|null|null|null|   0|   0|   0|   0|   0|   0|   0|   0|    0|    0|    0|     0|     0|    0|      0|     0|     0| 0.0285|   null|   null|   2.23|   3.78|  4.16|  6.38|  13.8| 16.8| 58.4| 67.3| 75.5| 105| 109| 114| 117| 123| 129| 131|null| 132| 135| 135| 135|null|null|null| 132| 132| 132|null|\n|        Afghanistan|   0|null|null|null|null|   0|null|null|null|null|   0|null|null|null|null|   0|   0|   0|   0|   0|   0|   0|   0|    0|    0|    0|     0|     0|    0|      0|     0|     0|      0|      0|      0|      0|      0|     0|     0|     0|    0|    0|0.119|0.883|2.55|4.92|9.91|  18|29.9|38.3|36.2|47.2|50.4|53.3|56.3|58.4|62.4|67.1|59.9|59.8|58.2|56.6|null|\n|             Angola|   0|null|null|null|null|   0|null|null|null|null|   0|null|null|null|null|   0|   0|   0|   0|   0|   0|   0|   0|    0|    0|    0|     0|     0|    0|      0|     0|     0|      0|0.00844| 0.0135| 0.0143| 0.0229|0.0474|0.0639| 0.151|0.157|0.443|0.799| 1.93|3.94|8.28|15.2|23.7|31.2|  36|40.2|49.8|50.8|50.8|51.8|49.4|44.6|44.1|42.5|45.8|43.8|44.4|67.4|\n|            Albania|   0|null|null|null|null|   0|null|null|null|null|   0|null|null|null|null|   0|   0|   0|   0|   0|   0|   0|   0|    0|    0|    0|     0|     0|    0|      0|     0|     0|      0|      0|      0|      0| 0.0703| 0.101| 0.173| 0.343|0.936| 12.5| 27.2| 35.6|41.1|50.5|63.6|  78|  63|84.1|92.4| 107| 121| 128| 116| 118| 117| 126|94.4|91.5|91.4|92.3|97.9|\n|            Andorra|   0|null|null|null|null|   0|null|null|null|null|   0|null|null|null|null|   0|   0|   0|   0|   0|   0|   0|   0|    0|    0|    0|     0|     0|    0|      0|     0|     0|   1.34|   1.32|   1.28|   4.49|   8.56|  13.3|  21.7|  31.4| 35.6| 43.4| 46.3| 70.2|75.9|80.9|  86|81.2|84.4|87.4|91.6|92.2|89.9|89.6|92.5|99.4| 105| 109| 110| 115| 103| 119| 142|\n|                UAE|null|null|null|null|null|null|null|null|null|null|null|null|null|null|null|null|null|null|null|null|null|null| 0.2|0.288|0.377|0.574| 0.762|  0.87|0.821|   1.39|  1.77|  2.14|   2.31|   3.17|   3.93|    5.3|   7.53|  11.3|  16.9|  26.9| 43.6| 55.3| 66.8| 77.9|92.2| 106| 113| 132| 134| 134| 129| 137| 159| 184| 190| 201| 221| 219| 220| 213| 198| 195| 212|\n|          Argentina|   0|null|null|null|null|   0|null|null|null|null|   0|null|null|null|null|   0|   0|   0|   0|   0|   0|   0|   0|    0|    0|    0|     0|     0|    0|0.00715|0.0368|0.0755|  0.139|  0.329|  0.699|   1.16|   1.88|  5.61|  7.37|  10.5| 17.5|   18| 17.3| 20.5|34.9|56.7|79.8| 101| 115| 129| 139| 146| 153| 159| 143| 143| 146| 141| 132| 126| 122| 130| 132|\n|            Armenia|   0|null|null|null|null|   0|null|null|null|null|   0|null|null|null|null|   0|   0|   0|   0|   0|   0|   0|   0|    0|    0|    0|     0|     0|    0|      0|     0|     0|      0|      0|      0|      0|0.00909| 0.153| 0.242| 0.255|0.552|0.814|  2.3| 3.71|6.63|10.4|41.6|62.5|48.3|73.9| 131| 110| 114| 115| 120| 120| 120| 122| 126| 128| 124| 129| 135|\n|     American Samoa|   0|null|null|null|null|   0|null|null|null|null|   0|null|null|null|null|   0|   0|   0|   0|   0|   0|   0|   0|    0|    0|    0|     0|  null| null|   null|     0|     0|    1.4|   1.76|   2.29|   2.34|   2.39|  2.52|  2.65|  3.13| 3.42|  3.7|  3.5| 3.62| 3.9|null|null|null|null|null|null|null|null|null|null|null|null|null|null|null|null|null|null|\n|Antigua and Barbuda|   0|null|null|null|null|   0|null|null|null|null|   0|null|null|null|null|   0|   0|   0|   0|   0|   0|   0|   0|    0|    0|    0|     0|     0|    0|   null|     0|  null|   null|   null|   null|   null|   1.86|  1.97|  2.07|  11.5| 29.3| 32.8| 49.5|   59|68.4| 108| 136| 137| 164| 160| 196| 203| 145| 129| 135| 196| 199| 202|null| 200| 199| 197|null|\n|          Australia|   0|null|null|null|null|   0|null|null|null|null|   0|null|null|null|null|   0|   0|   0|   0|   0|   0|   0|   0|    0|    0|    0|     0|0.0272|0.191|  0.563|  1.08|  1.69|   2.85|   3.91|   6.85|   12.5|   21.9|  24.9|  26.4|  33.6|   45| 57.8| 65.1| 72.8|82.7|91.3|96.5| 102| 104| 102| 102| 106| 107| 108| 107| 108| 110| 108| 111| 110| 105| 105| 107|\n|            Austria|   0|null|null|null|null|   0|null|null|null|null|   0|null|null|null|null|   0|   0|   0|   0|   0|   0|   0|   0|    0|    0|0.129| 0.252| 0.346|0.487|  0.666|  0.96|  1.49|    2.2|   2.79|   3.51|   4.83|   7.52|  14.6|  28.7|  53.2| 76.4| 81.4| 83.4| 89.6|97.8| 105| 112| 119| 130| 137| 146| 155| 161| 157| 152| 156| 127| 123| 124| 121| 120| 122| 123|\n|         Azerbaijan|   0|null|null|null|null|   0|null|null|null|null|   0|null|null|null|null|   0|   0|   0|   0|   0|   0|   0|   0|    0|    0|    0|     0|     0|    0|      0|     0|     0|      0|      0|0.00639| 0.0761|  0.214|   0.5| 0.808|  4.57| 5.13| 8.81| 9.49| 12.5|  17|25.9|37.9|50.9|72.8|85.1|98.5| 108| 107| 105| 108| 108| 102| 101| 102| 105| 101| 105| 107|\n|            Burundi|   0|null|null|null|null|   0|null|null|null|null|   0|null|null|null|null|   0|   0|   0|   0|   0|   0|   0|   0|    0|    0|    0|     0|     0|    0|      0|     0|     0|      0|0.00635|0.00677|0.00951|0.00946|0.0104|0.0103|0.0129|0.259|0.517|0.782|0.933|1.41|2.07|2.61| 3.4|5.81|10.6|18.4|20.2|22.9|  25|30.4|46.6|49.1|53.1|  55|  55|54.3|61.7|  58|\n|            Belgium|   0|null|null|null|null|   0|null|null|null|null|   0|null|null|null|null|   0|   0|   0|   0|   0|   0|   0|   0|    0|    0|    0|0.0384| 0.073|0.193|   0.31| 0.431| 0.515|  0.614|  0.675|   1.27|   2.33|   4.72|   9.6|  17.2|  31.2| 54.8| 74.7| 78.2| 82.7|87.3|91.3|  93| 101| 106| 109| 112| 114| 112| 111| 114| 114| 111|99.8| 100| 100|99.7| 101| 102|\n|              Benin|   0|null|null|null|null|   0|null|null|null|null|   0|null|null|null|null|   0|   0|   0|   0|   0|   0|   0|   0|    0|    0|    0|     0|     0|    0|      0|     0|     0|      0|      0|      0| 0.0174| 0.0436|0.0673|0.0955| 0.107|0.793| 1.73| 2.94| 3.08|5.82|7.32|12.6|23.7|40.7|54.9|74.9|79.8|  84|93.4|81.6|85.2|  79|75.7|79.2|84.2|88.1|  98| 109|\n|       Burkina Faso|   0|null|null|null|null|   0|null|null|null|null|   0|null|null|null|null|   0|   0|   0|   0|   0|   0|   0|   0|    0|    0|    0|     0|     0|    0|      0|     0|     0|      0|      0|      0|      0|0.00494|0.0138|0.0244|0.0437|0.212|0.622|0.879| 1.83|2.94|4.57| 7.1|12.6|19.9|24.4|35.4|46.3|58.3|63.7|68.8|77.2|79.9|90.5|94.8|97.2| 103| 112|null|\n|         Bangladesh|   0|null|null|null|null|   0|null|null|null|null|   0|null|null|null|null|   0|   0|   0|   0|   0|   0|   0|   0|    0|    0|    0|     0|     0|    0|      0|     0|     0|0.00022|0.00044|0.00095|0.00212|0.00334|0.0213|0.0603| 0.118|0.216|0.395|0.801|    1|   2|6.39|13.4|23.8|30.7|  35|45.8|56.2|63.9|75.7|81.3|83.2|85.1|93.3|98.8| 100| 105| 109| 105|\n|           Bulgaria|   0|null|null|null|null|   0|null|null|null|null|   0|null|null|null|null|   0|   0|   0|   0|   0|   0|   0|   0|    0|    0|    0|     0|     0|    0|      0|     0|     0|      0| 0.0116|  0.076|  0.247|  0.316| 0.841|  1.54|  4.29| 9.11| 19.3| 32.6| 44.2|60.1|79.9| 106| 128| 136| 137| 134| 139| 144| 141| 129| 126| 124| 119| 118| 115| 114| 115| 117|\n+-------------------+----+----+----+----+----+----+----+----+----+----+----+----+----+----+----+----+----+----+----+----+----+----+----+-----+-----+-----+------+------+-----+-------+------+------+-------+-------+-------+-------+-------+------+------+------+-----+-----+-----+-----+----+----+----+----+----+----+----+----+----+----+----+----+----+----+----+----+----+----+----+\nonly showing top 20 rows\n\n"
     ]
    }
   ],
   "source": [
    "df_spark = spark.read.table(\"default.cell_phones_per_100_people_csv\")\n",
    "df_spark.show()"
   ]
  },
  {
   "cell_type": "code",
   "execution_count": 0,
   "metadata": {
    "application/vnd.databricks.v1+cell": {
     "cellMetadata": {
      "byteLimit": 2048000,
      "rowLimit": 10000
     },
     "inputWidgets": {},
     "nuid": "06f4eb3b-0121-429e-bd1a-bf1d2aa06999",
     "showTitle": false,
     "tableResultSettingsMap": {},
     "title": ""
    }
   },
   "outputs": [
    {
     "output_type": "display_data",
     "data": {
      "text/html": [
       "<div>\n",
       "<style scoped>\n",
       "    .dataframe tbody tr th:only-of-type {\n",
       "        vertical-align: middle;\n",
       "    }\n",
       "\n",
       "    .dataframe tbody tr th {\n",
       "        vertical-align: top;\n",
       "    }\n",
       "\n",
       "    .dataframe thead th {\n",
       "        text-align: right;\n",
       "    }\n",
       "</style>\n",
       "<table border=\"1\" class=\"dataframe\">\n",
       "  <thead>\n",
       "    <tr style=\"text-align: right;\">\n",
       "      <th></th>\n",
       "      <th>_c0</th>\n",
       "      <th>_c1</th>\n",
       "      <th>_c2</th>\n",
       "      <th>_c3</th>\n",
       "      <th>_c4</th>\n",
       "      <th>_c5</th>\n",
       "      <th>_c6</th>\n",
       "      <th>_c7</th>\n",
       "      <th>_c8</th>\n",
       "      <th>_c9</th>\n",
       "      <th>...</th>\n",
       "      <th>_c54</th>\n",
       "      <th>_c55</th>\n",
       "      <th>_c56</th>\n",
       "      <th>_c57</th>\n",
       "      <th>_c58</th>\n",
       "      <th>_c59</th>\n",
       "      <th>_c60</th>\n",
       "      <th>_c61</th>\n",
       "      <th>_c62</th>\n",
       "      <th>_c63</th>\n",
       "    </tr>\n",
       "  </thead>\n",
       "  <tbody>\n",
       "    <tr>\n",
       "      <th>0</th>\n",
       "      <td>country</td>\n",
       "      <td>1960</td>\n",
       "      <td>1961</td>\n",
       "      <td>1962</td>\n",
       "      <td>1963</td>\n",
       "      <td>1964</td>\n",
       "      <td>1965</td>\n",
       "      <td>1966</td>\n",
       "      <td>1967</td>\n",
       "      <td>1968</td>\n",
       "      <td>...</td>\n",
       "      <td>2013</td>\n",
       "      <td>2014</td>\n",
       "      <td>2015</td>\n",
       "      <td>2016</td>\n",
       "      <td>2017</td>\n",
       "      <td>2018</td>\n",
       "      <td>2019</td>\n",
       "      <td>2020</td>\n",
       "      <td>2021</td>\n",
       "      <td>2022</td>\n",
       "    </tr>\n",
       "    <tr>\n",
       "      <th>1</th>\n",
       "      <td>Aruba</td>\n",
       "      <td>0</td>\n",
       "      <td>None</td>\n",
       "      <td>None</td>\n",
       "      <td>None</td>\n",
       "      <td>None</td>\n",
       "      <td>0</td>\n",
       "      <td>None</td>\n",
       "      <td>None</td>\n",
       "      <td>None</td>\n",
       "      <td>...</td>\n",
       "      <td>135</td>\n",
       "      <td>135</td>\n",
       "      <td>135</td>\n",
       "      <td>None</td>\n",
       "      <td>None</td>\n",
       "      <td>None</td>\n",
       "      <td>132</td>\n",
       "      <td>132</td>\n",
       "      <td>132</td>\n",
       "      <td>None</td>\n",
       "    </tr>\n",
       "    <tr>\n",
       "      <th>2</th>\n",
       "      <td>Afghanistan</td>\n",
       "      <td>0</td>\n",
       "      <td>None</td>\n",
       "      <td>None</td>\n",
       "      <td>None</td>\n",
       "      <td>None</td>\n",
       "      <td>0</td>\n",
       "      <td>None</td>\n",
       "      <td>None</td>\n",
       "      <td>None</td>\n",
       "      <td>...</td>\n",
       "      <td>53.3</td>\n",
       "      <td>56.3</td>\n",
       "      <td>58.4</td>\n",
       "      <td>62.4</td>\n",
       "      <td>67.1</td>\n",
       "      <td>59.9</td>\n",
       "      <td>59.8</td>\n",
       "      <td>58.2</td>\n",
       "      <td>56.6</td>\n",
       "      <td>None</td>\n",
       "    </tr>\n",
       "    <tr>\n",
       "      <th>3</th>\n",
       "      <td>Angola</td>\n",
       "      <td>0</td>\n",
       "      <td>None</td>\n",
       "      <td>None</td>\n",
       "      <td>None</td>\n",
       "      <td>None</td>\n",
       "      <td>0</td>\n",
       "      <td>None</td>\n",
       "      <td>None</td>\n",
       "      <td>None</td>\n",
       "      <td>...</td>\n",
       "      <td>50.8</td>\n",
       "      <td>51.8</td>\n",
       "      <td>49.4</td>\n",
       "      <td>44.6</td>\n",
       "      <td>44.1</td>\n",
       "      <td>42.5</td>\n",
       "      <td>45.8</td>\n",
       "      <td>43.8</td>\n",
       "      <td>44.4</td>\n",
       "      <td>67.4</td>\n",
       "    </tr>\n",
       "    <tr>\n",
       "      <th>4</th>\n",
       "      <td>Albania</td>\n",
       "      <td>0</td>\n",
       "      <td>None</td>\n",
       "      <td>None</td>\n",
       "      <td>None</td>\n",
       "      <td>None</td>\n",
       "      <td>0</td>\n",
       "      <td>None</td>\n",
       "      <td>None</td>\n",
       "      <td>None</td>\n",
       "      <td>...</td>\n",
       "      <td>128</td>\n",
       "      <td>116</td>\n",
       "      <td>118</td>\n",
       "      <td>117</td>\n",
       "      <td>126</td>\n",
       "      <td>94.4</td>\n",
       "      <td>91.5</td>\n",
       "      <td>91.4</td>\n",
       "      <td>92.3</td>\n",
       "      <td>97.9</td>\n",
       "    </tr>\n",
       "  </tbody>\n",
       "</table>\n",
       "<p>5 rows × 64 columns</p>\n",
       "</div>"
      ]
     },
     "metadata": {
      "application/vnd.databricks.v1+output": {
       "addedWidgets": {},
       "arguments": {},
       "data": "<div>\n<style scoped>\n    .dataframe tbody tr th:only-of-type {\n        vertical-align: middle;\n    }\n\n    .dataframe tbody tr th {\n        vertical-align: top;\n    }\n\n    .dataframe thead th {\n        text-align: right;\n    }\n</style>\n<table border=\"1\" class=\"dataframe\">\n  <thead>\n    <tr style=\"text-align: right;\">\n      <th></th>\n      <th>_c0</th>\n      <th>_c1</th>\n      <th>_c2</th>\n      <th>_c3</th>\n      <th>_c4</th>\n      <th>_c5</th>\n      <th>_c6</th>\n      <th>_c7</th>\n      <th>_c8</th>\n      <th>_c9</th>\n      <th>...</th>\n      <th>_c54</th>\n      <th>_c55</th>\n      <th>_c56</th>\n      <th>_c57</th>\n      <th>_c58</th>\n      <th>_c59</th>\n      <th>_c60</th>\n      <th>_c61</th>\n      <th>_c62</th>\n      <th>_c63</th>\n    </tr>\n  </thead>\n  <tbody>\n    <tr>\n      <th>0</th>\n      <td>country</td>\n      <td>1960</td>\n      <td>1961</td>\n      <td>1962</td>\n      <td>1963</td>\n      <td>1964</td>\n      <td>1965</td>\n      <td>1966</td>\n      <td>1967</td>\n      <td>1968</td>\n      <td>...</td>\n      <td>2013</td>\n      <td>2014</td>\n      <td>2015</td>\n      <td>2016</td>\n      <td>2017</td>\n      <td>2018</td>\n      <td>2019</td>\n      <td>2020</td>\n      <td>2021</td>\n      <td>2022</td>\n    </tr>\n    <tr>\n      <th>1</th>\n      <td>Aruba</td>\n      <td>0</td>\n      <td>None</td>\n      <td>None</td>\n      <td>None</td>\n      <td>None</td>\n      <td>0</td>\n      <td>None</td>\n      <td>None</td>\n      <td>None</td>\n      <td>...</td>\n      <td>135</td>\n      <td>135</td>\n      <td>135</td>\n      <td>None</td>\n      <td>None</td>\n      <td>None</td>\n      <td>132</td>\n      <td>132</td>\n      <td>132</td>\n      <td>None</td>\n    </tr>\n    <tr>\n      <th>2</th>\n      <td>Afghanistan</td>\n      <td>0</td>\n      <td>None</td>\n      <td>None</td>\n      <td>None</td>\n      <td>None</td>\n      <td>0</td>\n      <td>None</td>\n      <td>None</td>\n      <td>None</td>\n      <td>...</td>\n      <td>53.3</td>\n      <td>56.3</td>\n      <td>58.4</td>\n      <td>62.4</td>\n      <td>67.1</td>\n      <td>59.9</td>\n      <td>59.8</td>\n      <td>58.2</td>\n      <td>56.6</td>\n      <td>None</td>\n    </tr>\n    <tr>\n      <th>3</th>\n      <td>Angola</td>\n      <td>0</td>\n      <td>None</td>\n      <td>None</td>\n      <td>None</td>\n      <td>None</td>\n      <td>0</td>\n      <td>None</td>\n      <td>None</td>\n      <td>None</td>\n      <td>...</td>\n      <td>50.8</td>\n      <td>51.8</td>\n      <td>49.4</td>\n      <td>44.6</td>\n      <td>44.1</td>\n      <td>42.5</td>\n      <td>45.8</td>\n      <td>43.8</td>\n      <td>44.4</td>\n      <td>67.4</td>\n    </tr>\n    <tr>\n      <th>4</th>\n      <td>Albania</td>\n      <td>0</td>\n      <td>None</td>\n      <td>None</td>\n      <td>None</td>\n      <td>None</td>\n      <td>0</td>\n      <td>None</td>\n      <td>None</td>\n      <td>None</td>\n      <td>...</td>\n      <td>128</td>\n      <td>116</td>\n      <td>118</td>\n      <td>117</td>\n      <td>126</td>\n      <td>94.4</td>\n      <td>91.5</td>\n      <td>91.4</td>\n      <td>92.3</td>\n      <td>97.9</td>\n    </tr>\n  </tbody>\n</table>\n<p>5 rows × 64 columns</p>\n</div>",
       "datasetInfos": [],
       "metadata": {},
       "removedWidgets": [],
       "textData": null,
       "type": "htmlSandbox"
      }
     },
     "output_type": "display_data"
    }
   ],
   "source": [
    "df_pandas = df_spark.toPandas()\n",
    "df_pandas.head()"
   ]
  }
 ],
 "metadata": {
  "application/vnd.databricks.v1+notebook": {
   "computePreferences": null,
   "dashboards": [],
   "environmentMetadata": {
    "base_environment": "",
    "client": "1"
   },
   "language": "python",
   "notebookMetadata": {
    "pythonIndentUnit": 4
   },
   "notebookName": "task 2",
   "widgets": {}
  }
 },
 "nbformat": 4,
 "nbformat_minor": 0
}
